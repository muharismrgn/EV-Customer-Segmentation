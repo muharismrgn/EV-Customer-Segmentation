{
 "cells": [
  {
   "cell_type": "code",
   "execution_count": 1,
   "metadata": {},
   "outputs": [],
   "source": [
    "import pandas as pd\n",
    "import numpy as np\n",
    "\n",
    "import datetime\n",
    "import time\n",
    "\n",
    "import matplotlib.pyplot as plt\n",
    "import seaborn as sns\n",
    "import plotly.express as px\n",
    "\n",
    "from sklearn.preprocessing import StandardScaler\n",
    "from yellowbrick.cluster import KElbowVisualizer\n",
    "from sklearn.cluster import KMeans, AgglomerativeClustering\n",
    "from sklearn.metrics import silhouette_score\n",
    "from scipy.cluster.hierarchy import dendrogram, linkage\n",
    "\n",
    "import warnings \n",
    "warnings.filterwarnings(\"ignore\")\n",
    "\n",
    "pd.set_option(\"display.max_columns\", None)\n",
    "sns.set_style('darkgrid')"
   ]
  },
  {
   "cell_type": "markdown",
   "metadata": {},
   "source": [
    "# **Load Dataset**"
   ]
  },
  {
   "cell_type": "code",
   "execution_count": 3,
   "metadata": {},
   "outputs": [],
   "source": [
    "vehicles_df = pd.read_csv('../dataset/motorcycle_profile.csv')\n",
    "trips_df = pd.read_csv('../dataset/trips.csv')\n",
    "users_df = pd.read_csv('../dataset/user_profile.csv')\n",
    "\n",
    "merged_df = pd.merge(vehicles_df, users_df, left_on='borrower_id', right_on='user_id', how='outer')\n",
    "merged_df = pd.merge(merged_df, trips_df, left_on='vehicle_id', right_on='vehicle_id', how='outer')"
   ]
  },
  {
   "cell_type": "code",
   "execution_count": 4,
   "metadata": {},
   "outputs": [],
   "source": [
    "# Skimming data\n",
    "def skimming(df):\n",
    "    df_info = pd.DataFrame({\n",
    "                    'feature': df.columns.values,\n",
    "                    'data_type': df.dtypes.values,\n",
    "                    'null_value(%)': df.isna().mean().values * 100,\n",
    "                    'neg_value(%)': [len(df[col][df[col] < 0]) / len(df) * 100 if col in df.select_dtypes(include=[np.number]).columns else 0 for col in df.columns],\n",
    "                    '0_value(%)': [len(df[col][df[col] == 0]) / len(df) * 100 if col in df.select_dtypes(include=[np.number]).columns else 0 for col in df.columns],\n",
    "                    'duplicate' : df.duplicated().sum(),\n",
    "                    'n_unique': df.nunique().values,\n",
    "                    'sample_unique': [df[col].unique() for col in df.columns]}\n",
    "                ).round(3)\n",
    "    return df_info\n",
    "\n",
    "def elbow_visualizer(model, data, metric, k=(2,8), timings=True, locate_point=True, show_value=False):\n",
    "    sns.set_style('whitegrid')\n",
    "    \n",
    "    visualizer = KElbowVisualizer(model, k=k, metric=metric, timings=timings, locate_elbow=locate_point)\n",
    "    visualizer.fit(data)\n",
    "    \n",
    "    if show_value is True:\n",
    "        display(pd.DataFrame({\n",
    "            'k-Value': visualizer.k_values_,\n",
    "            f'{metric.title()} Score': visualizer.k_scores_,\n",
    "            'Times (second)': visualizer.k_timers_\n",
    "        }))\n",
    "    \n",
    "    # Show the elbow plot\n",
    "    visualizer.show()\n",
    "\n",
    "def plot_cluster(data, cluster, suptitle, plot_3d=False, hue_order=None, size=None, sizes=None, size_order=None):\n",
    "\n",
    "    if plot_3d is True:\n",
    "        # Creating a 3D scatter plot using Plotly\n",
    "        fig = px.scatter_3d(data, x='recency', y='frequency', z='monetary', color=cluster, title=suptitle)\n",
    "\n",
    "        # Adjusting the size of the 3D plot\n",
    "        fig.update_layout(width=800, height=600)\n",
    "\n",
    "        # Displaying the 3D plot\n",
    "        fig.show()\n",
    "    \n",
    "    else:\n",
    "        # Pairs of variables to plot against each other\n",
    "        vars = [('recency', 'frequency'), ('recency', 'monetary'), ('frequency', 'monetary')]\n",
    "\n",
    "        # Setting up the figure with specific size\n",
    "        plt.figure(figsize=(18,5))\n",
    "        sns.set_style('white')\n",
    "\n",
    "        # Looping through each pair of variables\n",
    "        for i, (x, y) in enumerate(vars, 1):\n",
    "            # Creating a subplot for each pair\n",
    "            plt.subplot(1, 3, i)\n",
    "            # Creating a scatter plot for each pair of variables\n",
    "            sns.scatterplot(data=data, x=x, y=y, hue=cluster, sizes=sizes, size_order=size_order, size=size, hue_order=hue_order, palette='Spectral_r')\n",
    "            # Setting the title, x-label, and y-label for each plot\n",
    "            plt.xlabel(x.title())\n",
    "            plt.ylabel(y.title())\n",
    "\n",
    "            # Removing the legend for the first two plots to avoid clutter\n",
    "            if i != 3:\n",
    "                plt.legend('')\n",
    "                \n",
    "        # Placing a single legend outside the last plot\n",
    "        plt.legend(bbox_to_anchor=(1.05, 1), loc='upper left', borderaxespad=0.)\n",
    "        plt.suptitle((suptitle), fontsize=16)\n",
    "        # Adjusting the layout and displaying the plots\n",
    "        plt.tight_layout()\n",
    "        plt.show()"
   ]
  },
  {
   "cell_type": "code",
   "execution_count": 5,
   "metadata": {},
   "outputs": [
    {
     "name": "stdout",
     "output_type": "stream",
     "text": [
      "Total users: 54\n",
      "Total vehicles: 95\n"
     ]
    }
   ],
   "source": [
    "print('Total users:', len(merged_df['user_id'].unique()))\n",
    "print('Total vehicles:', len(merged_df['vehicle_id'].unique()))"
   ]
  },
  {
   "cell_type": "markdown",
   "metadata": {},
   "source": [
    "- There are a total of **54 unique users** and **95 unique vehicles** in the dataset. Since the number of users is relatively small compared to the number of vehicles, the analysis is conducted at the vehicle level rather than the user (rider) level. This approach is valid because each vehicle is associated with only one borrower/user, ensuring that the vehicle-level analysis still accurately reflects individual usage patterns."
   ]
  },
  {
   "cell_type": "markdown",
   "metadata": {},
   "source": [
    "# **Modeling**"
   ]
  },
  {
   "cell_type": "markdown",
   "metadata": {},
   "source": [
    "##  **Features Engineering**\n",
    "\n",
    "---"
   ]
  },
  {
   "cell_type": "markdown",
   "metadata": {},
   "source": [
    "Feature engineering is a crucial process in data modeling aimed at improving the quality of features used in statistical or machine learning models. The main goal of feature engineering is to identify, modify, or create features that can assist the model in better understanding and predicting data. The stages in feature engineering modeling include Feature Selection, Handling Missing & Duplicate Value, Feature Extraction, and Normalization (Scaling)."
   ]
  },
  {
   "cell_type": "markdown",
   "metadata": {},
   "source": [
    "### **Features Selection**"
   ]
  },
  {
   "cell_type": "code",
   "execution_count": 5,
   "metadata": {},
   "outputs": [],
   "source": [
    "merged_df = merged_df[['vehicle_id', 'trip_id', 'start_trip_timestamp', 'duration']]"
   ]
  },
  {
   "cell_type": "markdown",
   "metadata": {},
   "source": [
    "The features above can be used for RFM (Recency, Frequency, Monetary) analysis and modeling, in accordance with the description provided:\n",
    "\n",
    "- `start_trip_timestamp`: This feature can be used to calculate Recency (R) in RFM analysis. By measuring the time difference between the last trip date and a specific reference date (e.g., the analysis date), you can determine how \"recent\" a rider or vehicle activity is. A smaller Recency value indicates that the customer is more active recently.\n",
    "\n",
    "- `trip_id`: This feature can be used to calculate Frequency (F) in RFM analysis. We can count the number of trip made by rider by counting the unique occurrences of trip_id. A higher Frequency value indicates that the rider uses the service more frequently, indicating consistent or repeat usage behavior.\n",
    "\n",
    "- `duration`: This feature can be used to calculate Monetary (M) in RFM analysis. By summing the duration for each rider, we can approximate the rider's overall engagement or usage intensity. A higher Monetary value indicates longer usage time, which may correlate with higher value or dependence on the service."
   ]
  },
  {
   "cell_type": "markdown",
   "metadata": {},
   "source": [
    "### **Missing and Duplicate Value**"
   ]
  },
  {
   "cell_type": "code",
   "execution_count": 6,
   "metadata": {},
   "outputs": [
    {
     "data": {
      "text/html": [
       "<div>\n",
       "<style scoped>\n",
       "    .dataframe tbody tr th:only-of-type {\n",
       "        vertical-align: middle;\n",
       "    }\n",
       "\n",
       "    .dataframe tbody tr th {\n",
       "        vertical-align: top;\n",
       "    }\n",
       "\n",
       "    .dataframe thead th {\n",
       "        text-align: right;\n",
       "    }\n",
       "</style>\n",
       "<table border=\"1\" class=\"dataframe\">\n",
       "  <thead>\n",
       "    <tr style=\"text-align: right;\">\n",
       "      <th></th>\n",
       "      <th>feature</th>\n",
       "      <th>data_type</th>\n",
       "      <th>null_value(%)</th>\n",
       "      <th>neg_value(%)</th>\n",
       "      <th>0_value(%)</th>\n",
       "      <th>duplicate</th>\n",
       "      <th>n_unique</th>\n",
       "      <th>sample_unique</th>\n",
       "    </tr>\n",
       "  </thead>\n",
       "  <tbody>\n",
       "    <tr>\n",
       "      <th>0</th>\n",
       "      <td>vehicle_id</td>\n",
       "      <td>object</td>\n",
       "      <td>0.000</td>\n",
       "      <td>0.0</td>\n",
       "      <td>0.0</td>\n",
       "      <td>0</td>\n",
       "      <td>95</td>\n",
       "      <td>[ZETA-13122200161408, ZETA-13122200078708, NEO...</td>\n",
       "    </tr>\n",
       "    <tr>\n",
       "      <th>1</th>\n",
       "      <td>trip_id</td>\n",
       "      <td>object</td>\n",
       "      <td>0.023</td>\n",
       "      <td>0.0</td>\n",
       "      <td>0.0</td>\n",
       "      <td>0</td>\n",
       "      <td>46883</td>\n",
       "      <td>[TRIP-MC13122200161408-2024-06-23-009, TRIP-MC...</td>\n",
       "    </tr>\n",
       "    <tr>\n",
       "      <th>2</th>\n",
       "      <td>start_trip_timestamp</td>\n",
       "      <td>object</td>\n",
       "      <td>0.023</td>\n",
       "      <td>0.0</td>\n",
       "      <td>0.0</td>\n",
       "      <td>0</td>\n",
       "      <td>35971</td>\n",
       "      <td>[2024-06-23 19:16:00, 2024-06-14 19:26:00, 202...</td>\n",
       "    </tr>\n",
       "    <tr>\n",
       "      <th>3</th>\n",
       "      <td>duration</td>\n",
       "      <td>float64</td>\n",
       "      <td>1.418</td>\n",
       "      <td>0.0</td>\n",
       "      <td>0.0</td>\n",
       "      <td>0</td>\n",
       "      <td>3667</td>\n",
       "      <td>[5.15, 6.23, 37.92, 16.9, 20.25, 14.43, 7.98, ...</td>\n",
       "    </tr>\n",
       "  </tbody>\n",
       "</table>\n",
       "</div>"
      ],
      "text/plain": [
       "                feature data_type  null_value(%)  neg_value(%)  0_value(%)  \\\n",
       "0            vehicle_id    object          0.000           0.0         0.0   \n",
       "1               trip_id    object          0.023           0.0         0.0   \n",
       "2  start_trip_timestamp    object          0.023           0.0         0.0   \n",
       "3              duration   float64          1.418           0.0         0.0   \n",
       "\n",
       "   duplicate  n_unique                                      sample_unique  \n",
       "0          0        95  [ZETA-13122200161408, ZETA-13122200078708, NEO...  \n",
       "1          0     46883  [TRIP-MC13122200161408-2024-06-23-009, TRIP-MC...  \n",
       "2          0     35971  [2024-06-23 19:16:00, 2024-06-14 19:26:00, 202...  \n",
       "3          0      3667  [5.15, 6.23, 37.92, 16.9, 20.25, 14.43, 7.98, ...  "
      ]
     },
     "execution_count": 6,
     "metadata": {},
     "output_type": "execute_result"
    }
   ],
   "source": [
    "skimming(merged_df)"
   ]
  },
  {
   "cell_type": "code",
   "execution_count": 7,
   "metadata": {},
   "outputs": [],
   "source": [
    "merged_df.dropna(inplace=True)"
   ]
  },
  {
   "cell_type": "markdown",
   "metadata": {},
   "source": [
    "- **No Duplicate or Negative Values**: The dataset does not contain duplicate entries or negative values in any of the relevant columns. This suggests a high level of data integrity and consistency.\n",
    "\n",
    "- **Missing Values**: Some columns contain missing values; however, the proportion is relatively small—less than 2% of the total data. Given the low impact, these missing values can be safely removed without significantly affecting the analysis."
   ]
  },
  {
   "cell_type": "code",
   "execution_count": 8,
   "metadata": {},
   "outputs": [
    {
     "data": {
      "text/html": [
       "<div>\n",
       "<style scoped>\n",
       "    .dataframe tbody tr th:only-of-type {\n",
       "        vertical-align: middle;\n",
       "    }\n",
       "\n",
       "    .dataframe tbody tr th {\n",
       "        vertical-align: top;\n",
       "    }\n",
       "\n",
       "    .dataframe thead th {\n",
       "        text-align: right;\n",
       "    }\n",
       "</style>\n",
       "<table border=\"1\" class=\"dataframe\">\n",
       "  <thead>\n",
       "    <tr style=\"text-align: right;\">\n",
       "      <th></th>\n",
       "      <th>vehicle_id</th>\n",
       "      <th>trip_id</th>\n",
       "      <th>start_trip_timestamp</th>\n",
       "      <th>duration</th>\n",
       "    </tr>\n",
       "  </thead>\n",
       "  <tbody>\n",
       "    <tr>\n",
       "      <th>5846</th>\n",
       "      <td>ZETA-13122200323608</td>\n",
       "      <td>TRIP-MC13122200323608-2024-06-14-010</td>\n",
       "      <td>2024-06-14 17:46:00</td>\n",
       "      <td>31.37</td>\n",
       "    </tr>\n",
       "    <tr>\n",
       "      <th>5907</th>\n",
       "      <td>ZETA-13122200323608</td>\n",
       "      <td>TRIP-MC13122200323608-2024-06-14-011</td>\n",
       "      <td>2024-06-14 17:46:00</td>\n",
       "      <td>31.37</td>\n",
       "    </tr>\n",
       "    <tr>\n",
       "      <th>21819</th>\n",
       "      <td>NEOVA-0403240015</td>\n",
       "      <td>TRIP-MH2ACC1HXPJ002088-05/08/2024 04:35-002</td>\n",
       "      <td>2024-05-08 04:35:00</td>\n",
       "      <td>2.00</td>\n",
       "    </tr>\n",
       "    <tr>\n",
       "      <th>21970</th>\n",
       "      <td>NEOVA-0403240015</td>\n",
       "      <td>TRIP-MH2ACC1HXPJ002088-08/05/2024 04:35-003</td>\n",
       "      <td>2024-05-08 04:35:00</td>\n",
       "      <td>2.00</td>\n",
       "    </tr>\n",
       "    <tr>\n",
       "      <th>39800</th>\n",
       "      <td>ZETA-16052300382211</td>\n",
       "      <td>TRIP-MC16052300382211-2024-06-24-020</td>\n",
       "      <td>2024-06-24 17:14:00</td>\n",
       "      <td>17.00</td>\n",
       "    </tr>\n",
       "    <tr>\n",
       "      <th>39954</th>\n",
       "      <td>ZETA-16052300382211</td>\n",
       "      <td>TRIP-MC16052300382211-2024-06-24-019</td>\n",
       "      <td>2024-06-24 17:14:00</td>\n",
       "      <td>17.00</td>\n",
       "    </tr>\n",
       "    <tr>\n",
       "      <th>43330</th>\n",
       "      <td>ZETA-16052300280311</td>\n",
       "      <td>TRIP-MC16052300280311-2024-06-18-003</td>\n",
       "      <td>2024-06-18 09:57:00</td>\n",
       "      <td>26.67</td>\n",
       "    </tr>\n",
       "    <tr>\n",
       "      <th>43386</th>\n",
       "      <td>ZETA-16052300280311</td>\n",
       "      <td>TRIP-MC16052300280311-2024-06-18-004</td>\n",
       "      <td>2024-06-18 09:57:00</td>\n",
       "      <td>26.67</td>\n",
       "    </tr>\n",
       "  </tbody>\n",
       "</table>\n",
       "</div>"
      ],
      "text/plain": [
       "                vehicle_id                                      trip_id  \\\n",
       "5846   ZETA-13122200323608         TRIP-MC13122200323608-2024-06-14-010   \n",
       "5907   ZETA-13122200323608         TRIP-MC13122200323608-2024-06-14-011   \n",
       "21819     NEOVA-0403240015  TRIP-MH2ACC1HXPJ002088-05/08/2024 04:35-002   \n",
       "21970     NEOVA-0403240015  TRIP-MH2ACC1HXPJ002088-08/05/2024 04:35-003   \n",
       "39800  ZETA-16052300382211         TRIP-MC16052300382211-2024-06-24-020   \n",
       "39954  ZETA-16052300382211         TRIP-MC16052300382211-2024-06-24-019   \n",
       "43330  ZETA-16052300280311         TRIP-MC16052300280311-2024-06-18-003   \n",
       "43386  ZETA-16052300280311         TRIP-MC16052300280311-2024-06-18-004   \n",
       "\n",
       "      start_trip_timestamp  duration  \n",
       "5846   2024-06-14 17:46:00     31.37  \n",
       "5907   2024-06-14 17:46:00     31.37  \n",
       "21819  2024-05-08 04:35:00      2.00  \n",
       "21970  2024-05-08 04:35:00      2.00  \n",
       "39800  2024-06-24 17:14:00     17.00  \n",
       "39954  2024-06-24 17:14:00     17.00  \n",
       "43330  2024-06-18 09:57:00     26.67  \n",
       "43386  2024-06-18 09:57:00     26.67  "
      ]
     },
     "execution_count": 8,
     "metadata": {},
     "output_type": "execute_result"
    }
   ],
   "source": [
    "merged_df[merged_df.duplicated(subset=['vehicle_id', 'start_trip_timestamp', 'duration'], keep=False)]"
   ]
  },
  {
   "cell_type": "markdown",
   "metadata": {},
   "source": [
    "- While there were no exact row-level duplicates in the dataset, a deeper examination using a subset of key features `vehicle_id`, `start_trip_timestamp`, and `duration` revealed duplicate entries. These duplicates indicate that some trip records share the same vehicle, identical start time, and equal duration, but have different trip_id values. This inconsistency may be attributed to system logging errors or data entry redundancies."
   ]
  },
  {
   "cell_type": "code",
   "execution_count": 9,
   "metadata": {},
   "outputs": [
    {
     "data": {
      "text/html": [
       "<div>\n",
       "<style scoped>\n",
       "    .dataframe tbody tr th:only-of-type {\n",
       "        vertical-align: middle;\n",
       "    }\n",
       "\n",
       "    .dataframe tbody tr th {\n",
       "        vertical-align: top;\n",
       "    }\n",
       "\n",
       "    .dataframe thead th {\n",
       "        text-align: right;\n",
       "    }\n",
       "</style>\n",
       "<table border=\"1\" class=\"dataframe\">\n",
       "  <thead>\n",
       "    <tr style=\"text-align: right;\">\n",
       "      <th></th>\n",
       "      <th>feature</th>\n",
       "      <th>data_type</th>\n",
       "      <th>null_value(%)</th>\n",
       "      <th>neg_value(%)</th>\n",
       "      <th>0_value(%)</th>\n",
       "      <th>duplicate</th>\n",
       "      <th>n_unique</th>\n",
       "      <th>sample_unique</th>\n",
       "    </tr>\n",
       "  </thead>\n",
       "  <tbody>\n",
       "    <tr>\n",
       "      <th>0</th>\n",
       "      <td>vehicle_id</td>\n",
       "      <td>object</td>\n",
       "      <td>0.0</td>\n",
       "      <td>0.0</td>\n",
       "      <td>0.0</td>\n",
       "      <td>0</td>\n",
       "      <td>84</td>\n",
       "      <td>[ZETA-13122200161408, NEOVA-2902240001, NEOVA-...</td>\n",
       "    </tr>\n",
       "    <tr>\n",
       "      <th>1</th>\n",
       "      <td>trip_id</td>\n",
       "      <td>object</td>\n",
       "      <td>0.0</td>\n",
       "      <td>0.0</td>\n",
       "      <td>0.0</td>\n",
       "      <td>0</td>\n",
       "      <td>46229</td>\n",
       "      <td>[TRIP-MC13122200161408-2024-06-23-009, TRIP-MC...</td>\n",
       "    </tr>\n",
       "    <tr>\n",
       "      <th>2</th>\n",
       "      <td>start_trip_timestamp</td>\n",
       "      <td>object</td>\n",
       "      <td>0.0</td>\n",
       "      <td>0.0</td>\n",
       "      <td>0.0</td>\n",
       "      <td>0</td>\n",
       "      <td>35558</td>\n",
       "      <td>[2024-06-23 19:16:00, 2024-06-14 19:26:00, 202...</td>\n",
       "    </tr>\n",
       "    <tr>\n",
       "      <th>3</th>\n",
       "      <td>duration</td>\n",
       "      <td>float64</td>\n",
       "      <td>0.0</td>\n",
       "      <td>0.0</td>\n",
       "      <td>0.0</td>\n",
       "      <td>0</td>\n",
       "      <td>3667</td>\n",
       "      <td>[5.15, 6.23, 37.92, 16.9, 20.25, 14.43, 7.98, ...</td>\n",
       "    </tr>\n",
       "  </tbody>\n",
       "</table>\n",
       "</div>"
      ],
      "text/plain": [
       "                feature data_type  null_value(%)  neg_value(%)  0_value(%)  \\\n",
       "0            vehicle_id    object            0.0           0.0         0.0   \n",
       "1               trip_id    object            0.0           0.0         0.0   \n",
       "2  start_trip_timestamp    object            0.0           0.0         0.0   \n",
       "3              duration   float64            0.0           0.0         0.0   \n",
       "\n",
       "   duplicate  n_unique                                      sample_unique  \n",
       "0          0        84  [ZETA-13122200161408, NEOVA-2902240001, NEOVA-...  \n",
       "1          0     46229  [TRIP-MC13122200161408-2024-06-23-009, TRIP-MC...  \n",
       "2          0     35558  [2024-06-23 19:16:00, 2024-06-14 19:26:00, 202...  \n",
       "3          0      3667  [5.15, 6.23, 37.92, 16.9, 20.25, 14.43, 7.98, ...  "
      ]
     },
     "execution_count": 9,
     "metadata": {},
     "output_type": "execute_result"
    }
   ],
   "source": [
    "skimming(merged_df)"
   ]
  },
  {
   "cell_type": "code",
   "execution_count": 10,
   "metadata": {},
   "outputs": [
    {
     "data": {
      "text/html": [
       "<div>\n",
       "<style scoped>\n",
       "    .dataframe tbody tr th:only-of-type {\n",
       "        vertical-align: middle;\n",
       "    }\n",
       "\n",
       "    .dataframe tbody tr th {\n",
       "        vertical-align: top;\n",
       "    }\n",
       "\n",
       "    .dataframe thead th {\n",
       "        text-align: right;\n",
       "    }\n",
       "</style>\n",
       "<table border=\"1\" class=\"dataframe\">\n",
       "  <thead>\n",
       "    <tr style=\"text-align: right;\">\n",
       "      <th></th>\n",
       "      <th>vehicle_id</th>\n",
       "      <th>trip_id</th>\n",
       "      <th>start_trip_timestamp</th>\n",
       "      <th>duration</th>\n",
       "    </tr>\n",
       "  </thead>\n",
       "  <tbody>\n",
       "    <tr>\n",
       "      <th>0</th>\n",
       "      <td>NEOVA-0403240010</td>\n",
       "      <td>TRIP-MH2ACC1H6PJ001584-01/09/2024 12:46-029</td>\n",
       "      <td>2024-01-09</td>\n",
       "      <td>9.00</td>\n",
       "    </tr>\n",
       "    <tr>\n",
       "      <th>1</th>\n",
       "      <td>NEOVA-0403240009</td>\n",
       "      <td>TRIP-MH2ACC1H9PJ001613-01/09/2024 08:54-014</td>\n",
       "      <td>2024-01-09</td>\n",
       "      <td>41.00</td>\n",
       "    </tr>\n",
       "    <tr>\n",
       "      <th>2</th>\n",
       "      <td>NEOVA-0403240009</td>\n",
       "      <td>TRIP-MH2ACC1H9PJ001613-01/09/2024 03:25-003</td>\n",
       "      <td>2024-01-09</td>\n",
       "      <td>5.00</td>\n",
       "    </tr>\n",
       "    <tr>\n",
       "      <th>3</th>\n",
       "      <td>NEOVA-0403240025</td>\n",
       "      <td>TRIP-MH2ACC1H1PJ001668-01/09/2024 21:09-001</td>\n",
       "      <td>2024-01-09</td>\n",
       "      <td>81.00</td>\n",
       "    </tr>\n",
       "    <tr>\n",
       "      <th>4</th>\n",
       "      <td>NEOVA-0403240009</td>\n",
       "      <td>TRIP-MH2ACC1H9PJ001613-01/09/2024 03:55-007</td>\n",
       "      <td>2024-01-09</td>\n",
       "      <td>40.00</td>\n",
       "    </tr>\n",
       "    <tr>\n",
       "      <th>...</th>\n",
       "      <td>...</td>\n",
       "      <td>...</td>\n",
       "      <td>...</td>\n",
       "      <td>...</td>\n",
       "    </tr>\n",
       "    <tr>\n",
       "      <th>46224</th>\n",
       "      <td>NEOVA-0403240011</td>\n",
       "      <td>TRIP-MH2ACC1HXPJ001619-30/06/2024 12:41-011</td>\n",
       "      <td>2024-06-30</td>\n",
       "      <td>118.00</td>\n",
       "    </tr>\n",
       "    <tr>\n",
       "      <th>46225</th>\n",
       "      <td>ZETA-16052300412111</td>\n",
       "      <td>TRIP-MC16052300412111-2024-06-30-002</td>\n",
       "      <td>2024-06-30</td>\n",
       "      <td>11.70</td>\n",
       "    </tr>\n",
       "    <tr>\n",
       "      <th>46226</th>\n",
       "      <td>ZETA-16052300434911</td>\n",
       "      <td>TRIP-MC16052300434911-2024-06-30-029</td>\n",
       "      <td>2024-06-30</td>\n",
       "      <td>17.67</td>\n",
       "    </tr>\n",
       "    <tr>\n",
       "      <th>46227</th>\n",
       "      <td>NEOVA-0403240002</td>\n",
       "      <td>TRIP-MH2ACC1H4PJ001745-30/06/2024 03:22-004</td>\n",
       "      <td>2024-06-30</td>\n",
       "      <td>45.00</td>\n",
       "    </tr>\n",
       "    <tr>\n",
       "      <th>46228</th>\n",
       "      <td>ZETA-13122200267608</td>\n",
       "      <td>TRIP-MC13122200267608-2024-06-30-014</td>\n",
       "      <td>2024-06-30</td>\n",
       "      <td>18.42</td>\n",
       "    </tr>\n",
       "  </tbody>\n",
       "</table>\n",
       "<p>46229 rows × 4 columns</p>\n",
       "</div>"
      ],
      "text/plain": [
       "                vehicle_id                                      trip_id  \\\n",
       "0         NEOVA-0403240010  TRIP-MH2ACC1H6PJ001584-01/09/2024 12:46-029   \n",
       "1         NEOVA-0403240009  TRIP-MH2ACC1H9PJ001613-01/09/2024 08:54-014   \n",
       "2         NEOVA-0403240009  TRIP-MH2ACC1H9PJ001613-01/09/2024 03:25-003   \n",
       "3         NEOVA-0403240025  TRIP-MH2ACC1H1PJ001668-01/09/2024 21:09-001   \n",
       "4         NEOVA-0403240009  TRIP-MH2ACC1H9PJ001613-01/09/2024 03:55-007   \n",
       "...                    ...                                          ...   \n",
       "46224     NEOVA-0403240011  TRIP-MH2ACC1HXPJ001619-30/06/2024 12:41-011   \n",
       "46225  ZETA-16052300412111         TRIP-MC16052300412111-2024-06-30-002   \n",
       "46226  ZETA-16052300434911         TRIP-MC16052300434911-2024-06-30-029   \n",
       "46227     NEOVA-0403240002  TRIP-MH2ACC1H4PJ001745-30/06/2024 03:22-004   \n",
       "46228  ZETA-13122200267608         TRIP-MC13122200267608-2024-06-30-014   \n",
       "\n",
       "      start_trip_timestamp  duration  \n",
       "0               2024-01-09      9.00  \n",
       "1               2024-01-09     41.00  \n",
       "2               2024-01-09      5.00  \n",
       "3               2024-01-09     81.00  \n",
       "4               2024-01-09     40.00  \n",
       "...                    ...       ...  \n",
       "46224           2024-06-30    118.00  \n",
       "46225           2024-06-30     11.70  \n",
       "46226           2024-06-30     17.67  \n",
       "46227           2024-06-30     45.00  \n",
       "46228           2024-06-30     18.42  \n",
       "\n",
       "[46229 rows x 4 columns]"
      ]
     },
     "execution_count": 10,
     "metadata": {},
     "output_type": "execute_result"
    }
   ],
   "source": [
    "merged_df['start_trip_timestamp'] = pd.to_datetime(merged_df['start_trip_timestamp'])\n",
    "merged_df['start_trip_timestamp'] = merged_df['start_trip_timestamp'].dt.date\n",
    "merged_df.sort_values(by=['start_trip_timestamp'], inplace=True)\n",
    "merged_df.reset_index(drop=True, inplace=True)\n",
    "merged_df"
   ]
  },
  {
   "cell_type": "markdown",
   "metadata": {},
   "source": [
    "### **Feature Extraction**"
   ]
  },
  {
   "cell_type": "markdown",
   "metadata": {},
   "source": [
    "Feature extraction is the process of creating new features from existing ones or transforming the existing features in a dataset to capture more relevant information or reduce dimensionality. In the context of RFM analysis, feature extraction involves transforming the given features into Recency (R), Frequency (F), and Monetary (M) features.\n",
    "\n",
    "- **Recency**: Recency measures how recently a vehicle was last used for a trip.\n",
    "- **Frequency**: Frequency measures how often a vehicle has been used over a certain period.\n",
    "- **Monetary**: Monetary measures the total usage duration of a vehicle."
   ]
  },
  {
   "cell_type": "code",
   "execution_count": 11,
   "metadata": {},
   "outputs": [
    {
     "data": {
      "text/html": [
       "<div>\n",
       "<style scoped>\n",
       "    .dataframe tbody tr th:only-of-type {\n",
       "        vertical-align: middle;\n",
       "    }\n",
       "\n",
       "    .dataframe tbody tr th {\n",
       "        vertical-align: top;\n",
       "    }\n",
       "\n",
       "    .dataframe thead th {\n",
       "        text-align: right;\n",
       "    }\n",
       "</style>\n",
       "<table border=\"1\" class=\"dataframe\">\n",
       "  <thead>\n",
       "    <tr style=\"text-align: right;\">\n",
       "      <th></th>\n",
       "      <th>vehicle_id</th>\n",
       "      <th>trip_id</th>\n",
       "      <th>start_trip_timestamp</th>\n",
       "      <th>duration</th>\n",
       "    </tr>\n",
       "  </thead>\n",
       "  <tbody>\n",
       "    <tr>\n",
       "      <th>0</th>\n",
       "      <td>NEOVA-0403240010</td>\n",
       "      <td>TRIP-MH2ACC1H6PJ001584-01/09/2024 12:46-029</td>\n",
       "      <td>2024-01-09</td>\n",
       "      <td>9.0</td>\n",
       "    </tr>\n",
       "    <tr>\n",
       "      <th>1</th>\n",
       "      <td>NEOVA-0403240009</td>\n",
       "      <td>TRIP-MH2ACC1H9PJ001613-01/09/2024 08:54-014</td>\n",
       "      <td>2024-01-09</td>\n",
       "      <td>41.0</td>\n",
       "    </tr>\n",
       "    <tr>\n",
       "      <th>2</th>\n",
       "      <td>NEOVA-0403240009</td>\n",
       "      <td>TRIP-MH2ACC1H9PJ001613-01/09/2024 03:25-003</td>\n",
       "      <td>2024-01-09</td>\n",
       "      <td>5.0</td>\n",
       "    </tr>\n",
       "    <tr>\n",
       "      <th>3</th>\n",
       "      <td>NEOVA-0403240025</td>\n",
       "      <td>TRIP-MH2ACC1H1PJ001668-01/09/2024 21:09-001</td>\n",
       "      <td>2024-01-09</td>\n",
       "      <td>81.0</td>\n",
       "    </tr>\n",
       "    <tr>\n",
       "      <th>4</th>\n",
       "      <td>NEOVA-0403240009</td>\n",
       "      <td>TRIP-MH2ACC1H9PJ001613-01/09/2024 03:55-007</td>\n",
       "      <td>2024-01-09</td>\n",
       "      <td>40.0</td>\n",
       "    </tr>\n",
       "  </tbody>\n",
       "</table>\n",
       "</div>"
      ],
      "text/plain": [
       "         vehicle_id                                      trip_id  \\\n",
       "0  NEOVA-0403240010  TRIP-MH2ACC1H6PJ001584-01/09/2024 12:46-029   \n",
       "1  NEOVA-0403240009  TRIP-MH2ACC1H9PJ001613-01/09/2024 08:54-014   \n",
       "2  NEOVA-0403240009  TRIP-MH2ACC1H9PJ001613-01/09/2024 03:25-003   \n",
       "3  NEOVA-0403240025  TRIP-MH2ACC1H1PJ001668-01/09/2024 21:09-001   \n",
       "4  NEOVA-0403240009  TRIP-MH2ACC1H9PJ001613-01/09/2024 03:55-007   \n",
       "\n",
       "  start_trip_timestamp  duration  \n",
       "0           2024-01-09       9.0  \n",
       "1           2024-01-09      41.0  \n",
       "2           2024-01-09       5.0  \n",
       "3           2024-01-09      81.0  \n",
       "4           2024-01-09      40.0  "
      ]
     },
     "metadata": {},
     "output_type": "display_data"
    },
    {
     "name": "stdout",
     "output_type": "stream",
     "text": [
      "Total Vehicles: 84\n"
     ]
    }
   ],
   "source": [
    "display(merged_df.head())\n",
    "print('Total Vehicles:', merged_df['vehicle_id'].nunique())"
   ]
  },
  {
   "cell_type": "code",
   "execution_count": 12,
   "metadata": {},
   "outputs": [
    {
     "name": "stdout",
     "output_type": "stream",
     "text": [
      "Last Trip Record: 2024-06-30\n"
     ]
    },
    {
     "data": {
      "text/html": [
       "<div>\n",
       "<style scoped>\n",
       "    .dataframe tbody tr th:only-of-type {\n",
       "        vertical-align: middle;\n",
       "    }\n",
       "\n",
       "    .dataframe tbody tr th {\n",
       "        vertical-align: top;\n",
       "    }\n",
       "\n",
       "    .dataframe thead th {\n",
       "        text-align: right;\n",
       "    }\n",
       "</style>\n",
       "<table border=\"1\" class=\"dataframe\">\n",
       "  <thead>\n",
       "    <tr style=\"text-align: right;\">\n",
       "      <th></th>\n",
       "      <th>vehicle_id</th>\n",
       "      <th>last_ride</th>\n",
       "      <th>recency</th>\n",
       "      <th>frequency</th>\n",
       "      <th>monetary</th>\n",
       "    </tr>\n",
       "  </thead>\n",
       "  <tbody>\n",
       "    <tr>\n",
       "      <th>0</th>\n",
       "      <td>NEOVA-0403240001</td>\n",
       "      <td>2024-05-16</td>\n",
       "      <td>46</td>\n",
       "      <td>40</td>\n",
       "      <td>674.00</td>\n",
       "    </tr>\n",
       "    <tr>\n",
       "      <th>1</th>\n",
       "      <td>NEOVA-0403240002</td>\n",
       "      <td>2024-06-30</td>\n",
       "      <td>1</td>\n",
       "      <td>1069</td>\n",
       "      <td>29588.00</td>\n",
       "    </tr>\n",
       "    <tr>\n",
       "      <th>2</th>\n",
       "      <td>NEOVA-0403240003</td>\n",
       "      <td>2024-06-30</td>\n",
       "      <td>1</td>\n",
       "      <td>1761</td>\n",
       "      <td>36718.00</td>\n",
       "    </tr>\n",
       "    <tr>\n",
       "      <th>3</th>\n",
       "      <td>NEOVA-0403240004</td>\n",
       "      <td>2024-05-11</td>\n",
       "      <td>51</td>\n",
       "      <td>343</td>\n",
       "      <td>5611.00</td>\n",
       "    </tr>\n",
       "    <tr>\n",
       "      <th>4</th>\n",
       "      <td>NEOVA-0403240006</td>\n",
       "      <td>2024-06-24</td>\n",
       "      <td>7</td>\n",
       "      <td>594</td>\n",
       "      <td>20325.00</td>\n",
       "    </tr>\n",
       "    <tr>\n",
       "      <th>...</th>\n",
       "      <td>...</td>\n",
       "      <td>...</td>\n",
       "      <td>...</td>\n",
       "      <td>...</td>\n",
       "      <td>...</td>\n",
       "    </tr>\n",
       "    <tr>\n",
       "      <th>79</th>\n",
       "      <td>ZETA-16052300441411</td>\n",
       "      <td>2024-06-26</td>\n",
       "      <td>5</td>\n",
       "      <td>117</td>\n",
       "      <td>1111.09</td>\n",
       "    </tr>\n",
       "    <tr>\n",
       "      <th>80</th>\n",
       "      <td>ZETA-16052300462311</td>\n",
       "      <td>2024-06-30</td>\n",
       "      <td>1</td>\n",
       "      <td>216</td>\n",
       "      <td>10207.57</td>\n",
       "    </tr>\n",
       "    <tr>\n",
       "      <th>81</th>\n",
       "      <td>ZETA-16052300468111</td>\n",
       "      <td>2024-06-30</td>\n",
       "      <td>1</td>\n",
       "      <td>413</td>\n",
       "      <td>8398.21</td>\n",
       "    </tr>\n",
       "    <tr>\n",
       "      <th>82</th>\n",
       "      <td>ZETA-16052300477411</td>\n",
       "      <td>2024-06-30</td>\n",
       "      <td>1</td>\n",
       "      <td>612</td>\n",
       "      <td>6968.24</td>\n",
       "    </tr>\n",
       "    <tr>\n",
       "      <th>83</th>\n",
       "      <td>ZETA-16052300480211</td>\n",
       "      <td>2024-06-30</td>\n",
       "      <td>1</td>\n",
       "      <td>344</td>\n",
       "      <td>10172.73</td>\n",
       "    </tr>\n",
       "  </tbody>\n",
       "</table>\n",
       "<p>84 rows × 5 columns</p>\n",
       "</div>"
      ],
      "text/plain": [
       "             vehicle_id   last_ride  recency  frequency  monetary\n",
       "0      NEOVA-0403240001  2024-05-16       46         40    674.00\n",
       "1      NEOVA-0403240002  2024-06-30        1       1069  29588.00\n",
       "2      NEOVA-0403240003  2024-06-30        1       1761  36718.00\n",
       "3      NEOVA-0403240004  2024-05-11       51        343   5611.00\n",
       "4      NEOVA-0403240006  2024-06-24        7        594  20325.00\n",
       "..                  ...         ...      ...        ...       ...\n",
       "79  ZETA-16052300441411  2024-06-26        5        117   1111.09\n",
       "80  ZETA-16052300462311  2024-06-30        1        216  10207.57\n",
       "81  ZETA-16052300468111  2024-06-30        1        413   8398.21\n",
       "82  ZETA-16052300477411  2024-06-30        1        612   6968.24\n",
       "83  ZETA-16052300480211  2024-06-30        1        344  10172.73\n",
       "\n",
       "[84 rows x 5 columns]"
      ]
     },
     "execution_count": 12,
     "metadata": {},
     "output_type": "execute_result"
    }
   ],
   "source": [
    "print('Last Trip Record:', merged_df['start_trip_timestamp'].max())\n",
    "\n",
    "# Calculate the next day after the maximum order purchase timestamp to determine the reference date for recency calculation.\n",
    "max_day = merged_df['start_trip_timestamp'].max() + datetime.timedelta(days=1)\n",
    "\n",
    "# Group the DataFrame by 'vehicle_id' and aggregate RFM metrics.\n",
    "rfm_data = merged_df.groupby('vehicle_id').agg(\n",
    "    last_ride=('start_trip_timestamp', 'max'),  # Calculate the last record date for each user.\n",
    "    recency=('start_trip_timestamp', lambda x: (max_day - x.max()).days),  # Calculate recency in days.\n",
    "    frequency=('trip_id', lambda x: x.nunique()),  # Calculate the count of unique trip for each user.\n",
    "    monetary=('duration', 'sum')  # Calculate the total monetary value for each user.\n",
    ").reset_index()\n",
    "\n",
    "rfm_data"
   ]
  },
  {
   "cell_type": "markdown",
   "metadata": {},
   "source": [
    "- The `recency` value is calculated by measuring the time difference (in days) between one day after the latest trip date (i.e., the maximum value in the `start_trip_timestamp` column plus one day) and the most recent trip date for each vehicle. This reflects how recently each vehicle was last used.\n",
    "\n",
    "- The `frequency` value represents the number of trips made by each vehicle. It is obtained by counting the number of unique `trip_id` entries associated with each vehicle.\n",
    "\n",
    "- The `monetary` value reflects the total time spent using the vehicle. It is calculated by summing the `duration` of all trips associated with each vehicle."
   ]
  },
  {
   "cell_type": "code",
   "execution_count": 13,
   "metadata": {},
   "outputs": [
    {
     "data": {
      "image/png": "[encoded data removed]",
      "text/plain": [
       "<Figure size 1500x300 with 3 Axes>"
      ]
     },
     "metadata": {},
     "output_type": "display_data"
    },
    {
     "data": {
      "text/html": [
       "<div>\n",
       "<style scoped>\n",
       "    .dataframe tbody tr th:only-of-type {\n",
       "        vertical-align: middle;\n",
       "    }\n",
       "\n",
       "    .dataframe tbody tr th {\n",
       "        vertical-align: top;\n",
       "    }\n",
       "\n",
       "    .dataframe thead th {\n",
       "        text-align: right;\n",
       "    }\n",
       "</style>\n",
       "<table border=\"1\" class=\"dataframe\">\n",
       "  <thead>\n",
       "    <tr style=\"text-align: right;\">\n",
       "      <th></th>\n",
       "      <th>count</th>\n",
       "      <th>mean</th>\n",
       "      <th>std</th>\n",
       "      <th>min</th>\n",
       "      <th>1%</th>\n",
       "      <th>5%</th>\n",
       "      <th>10%</th>\n",
       "      <th>25%</th>\n",
       "      <th>50%</th>\n",
       "      <th>75%</th>\n",
       "      <th>90%</th>\n",
       "      <th>95%</th>\n",
       "      <th>99%</th>\n",
       "      <th>max</th>\n",
       "    </tr>\n",
       "  </thead>\n",
       "  <tbody>\n",
       "    <tr>\n",
       "      <th>recency</th>\n",
       "      <td>84.0</td>\n",
       "      <td>6.928571</td>\n",
       "      <td>17.108996</td>\n",
       "      <td>1.00</td>\n",
       "      <td>1.0000</td>\n",
       "      <td>1.0000</td>\n",
       "      <td>1.000</td>\n",
       "      <td>1.000</td>\n",
       "      <td>1.00</td>\n",
       "      <td>2.25</td>\n",
       "      <td>13.1</td>\n",
       "      <td>46.000</td>\n",
       "      <td>78.08</td>\n",
       "      <td>98.0</td>\n",
       "    </tr>\n",
       "    <tr>\n",
       "      <th>frequency</th>\n",
       "      <td>84.0</td>\n",
       "      <td>550.345238</td>\n",
       "      <td>631.286953</td>\n",
       "      <td>1.00</td>\n",
       "      <td>1.0000</td>\n",
       "      <td>9.4000</td>\n",
       "      <td>43.000</td>\n",
       "      <td>215.250</td>\n",
       "      <td>340.50</td>\n",
       "      <td>522.00</td>\n",
       "      <td>1546.9</td>\n",
       "      <td>2098.550</td>\n",
       "      <td>2716.66</td>\n",
       "      <td>2964.0</td>\n",
       "    </tr>\n",
       "    <tr>\n",
       "      <th>monetary</th>\n",
       "      <td>84.0</td>\n",
       "      <td>11945.840952</td>\n",
       "      <td>12569.683261</td>\n",
       "      <td>18.52</td>\n",
       "      <td>24.5873</td>\n",
       "      <td>322.2025</td>\n",
       "      <td>856.192</td>\n",
       "      <td>5231.165</td>\n",
       "      <td>7147.93</td>\n",
       "      <td>12006.00</td>\n",
       "      <td>33890.2</td>\n",
       "      <td>39654.504</td>\n",
       "      <td>47073.80</td>\n",
       "      <td>60719.0</td>\n",
       "    </tr>\n",
       "  </tbody>\n",
       "</table>\n",
       "</div>"
      ],
      "text/plain": [
       "           count          mean           std    min       1%        5%  \\\n",
       "recency     84.0      6.928571     17.108996   1.00   1.0000    1.0000   \n",
       "frequency   84.0    550.345238    631.286953   1.00   1.0000    9.4000   \n",
       "monetary    84.0  11945.840952  12569.683261  18.52  24.5873  322.2025   \n",
       "\n",
       "               10%       25%      50%       75%      90%        95%       99%  \\\n",
       "recency      1.000     1.000     1.00      2.25     13.1     46.000     78.08   \n",
       "frequency   43.000   215.250   340.50    522.00   1546.9   2098.550   2716.66   \n",
       "monetary   856.192  5231.165  7147.93  12006.00  33890.2  39654.504  47073.80   \n",
       "\n",
       "               max  \n",
       "recency       98.0  \n",
       "frequency   2964.0  \n",
       "monetary   60719.0  "
      ]
     },
     "execution_count": 13,
     "metadata": {},
     "output_type": "execute_result"
    }
   ],
   "source": [
    "fig, axs = plt.subplots(ncols=3, nrows=1, figsize=(15,3))\n",
    "index = 0\n",
    "axs = axs.flatten()\n",
    "for col, val in rfm_data.select_dtypes(include=[np.number]).items():\n",
    "    # Create a boxplot for the current column and assign it to the current subplot axis\n",
    "    sns.boxplot(x=col, data=rfm_data, ax=axs[index])\n",
    "    index += 1\n",
    "plt.suptitle('RFM Features Distribution')\n",
    "plt.tight_layout()\n",
    "plt.show()\n",
    "\n",
    "# Generate descriptive statistics for the numerical columns of rfm_data\n",
    "rfm_data.describe([0.01, 0.05, 0.1, 0.25, 0.5, 0.75, 0.9, 0.95, 0.99]).T"
   ]
  },
  {
   "cell_type": "markdown",
   "metadata": {},
   "source": [
    "**Recency**:\n",
    "\n",
    "- Most vehicles have a recency value of 13 days or less, indicating that they were used for a trip relatively recently.\n",
    "\n",
    "- The distribution is right-skewed, with a few outliers having significantly higher recency values.\n",
    "\n",
    "- These outliers represent vehicles that have not been used for a longer period, which may indicate `inactive` or `potentially lost users`.\n",
    "\n",
    "**Frequency**:\n",
    "\n",
    "- The `frequency distribution is right-skewed`, indicating that most vehicles have a reasonable number of trips, while a few vehicles exhibit extremely high trip counts (exceeding 3,000 trips).\n",
    "\n",
    "- The presence of these `outliers` suggests that certain vehicles are used far more frequently than others, possibly due to higher demand or more active users.\n",
    "\n",
    "- The wide `interquartile range (IQR)` highlights a `significant variation in vehicle usage intensity`, indicating that usage patterns differ greatly across the fleet.\n",
    "\n",
    "\n",
    "**Monetary**:\n",
    "\n",
    "- The monetary feature, which represents the total usage duration of each vehicle, exhibits a `highly right-skewed distribution`.\n",
    "\n",
    "- Most vehicles have a total usage duration of `less than 20,000 minutes`, indicating a moderate level of utilization across the fleet.\n",
    "\n",
    "- However, there are `extreme outliers` with usage durations exceeding `60,000 minutes`, suggesting that a small number of vehicles are used significantly more than others.\n",
    "\n",
    "**`Insight:`**\n",
    "\n",
    "- Vehicles with high recency values should be monitored closely, as they may require reactivation strategies or further investigation to understand the cause of inactivity\n",
    "\n",
    "- Identifying high-frequency vehicles may help uncover key user segments or operational patterns, while low-frequency vehicles may indicate underutilized assets that require further attention.\n",
    "\n",
    "- Vehicles with extremely high frequency or usage time may need to be checked for maintenance needs or data errors."
   ]
  },
  {
   "cell_type": "markdown",
   "metadata": {},
   "source": [
    "### **Normalization (Scalling)**"
   ]
  },
  {
   "cell_type": "markdown",
   "metadata": {},
   "source": [
    "Normalization (scaling) is a data processing process performed to change the scale or range of data, so that the features have uniform values or are within a specific range. The use of normalization (scaling) prevents bias in machine learning, which is highly sensitive to differences in scale between features. For example, algorithms like K-Means Clustering that rely on distances in their modeling process. Feature normalization or scalling will be done using Standard Scaler."
   ]
  },
  {
   "cell_type": "code",
   "execution_count": 14,
   "metadata": {},
   "outputs": [
    {
     "data": {
      "text/html": [
       "<div>\n",
       "<style scoped>\n",
       "    .dataframe tbody tr th:only-of-type {\n",
       "        vertical-align: middle;\n",
       "    }\n",
       "\n",
       "    .dataframe tbody tr th {\n",
       "        vertical-align: top;\n",
       "    }\n",
       "\n",
       "    .dataframe thead th {\n",
       "        text-align: right;\n",
       "    }\n",
       "</style>\n",
       "<table border=\"1\" class=\"dataframe\">\n",
       "  <thead>\n",
       "    <tr style=\"text-align: right;\">\n",
       "      <th></th>\n",
       "      <th>recency</th>\n",
       "      <th>frequency</th>\n",
       "      <th>monetary</th>\n",
       "    </tr>\n",
       "  </thead>\n",
       "  <tbody>\n",
       "    <tr>\n",
       "      <th>0</th>\n",
       "      <td>2.297393</td>\n",
       "      <td>-0.813276</td>\n",
       "      <td>-0.902134</td>\n",
       "    </tr>\n",
       "    <tr>\n",
       "      <th>1</th>\n",
       "      <td>-0.348599</td>\n",
       "      <td>0.826518</td>\n",
       "      <td>1.411978</td>\n",
       "    </tr>\n",
       "    <tr>\n",
       "      <th>2</th>\n",
       "      <td>-0.348599</td>\n",
       "      <td>1.929275</td>\n",
       "      <td>1.982623</td>\n",
       "    </tr>\n",
       "    <tr>\n",
       "      <th>3</th>\n",
       "      <td>2.591393</td>\n",
       "      <td>-0.330421</td>\n",
       "      <td>-0.507005</td>\n",
       "    </tr>\n",
       "    <tr>\n",
       "      <th>4</th>\n",
       "      <td>0.004200</td>\n",
       "      <td>0.069567</td>\n",
       "      <td>0.670620</td>\n",
       "    </tr>\n",
       "  </tbody>\n",
       "</table>\n",
       "</div>"
      ],
      "text/plain": [
       "    recency  frequency  monetary\n",
       "0  2.297393  -0.813276 -0.902134\n",
       "1 -0.348599   0.826518  1.411978\n",
       "2 -0.348599   1.929275  1.982623\n",
       "3  2.591393  -0.330421 -0.507005\n",
       "4  0.004200   0.069567  0.670620"
      ]
     },
     "execution_count": 14,
     "metadata": {},
     "output_type": "execute_result"
    }
   ],
   "source": [
    "# Select only the relevant columns ('recency', 'frequency', 'monetary') from rfm_data for scaling.\n",
    "rfm_data.drop(columns='last_ride', inplace=True)\n",
    "\n",
    "# Initialize an instance of the StandardScaler, which standardizes features by removing the mean and scaling to unit variance.\n",
    "scaler = StandardScaler()\n",
    "\n",
    "# The fit_transform method first calculates the mean and std dev for each feature, then transforms the data.\n",
    "rfm_scaled = pd.DataFrame(data=scaler.fit_transform(rfm_data[['recency','frequency','monetary']]), columns=['recency', 'frequency', 'monetary'])\n",
    "\n",
    "rfm_scaled.head()"
   ]
  },
  {
   "cell_type": "markdown",
   "metadata": {},
   "source": [
    "## **K-Means Clustering**\n",
    "---"
   ]
  },
  {
   "cell_type": "markdown",
   "metadata": {},
   "source": [
    "K-Means Clustering is one of the algorithms in cluster analysis used to group data into clusters based on the similarity of specific features or attributes. The algorithm works by searching for cluster centers (centroids) and assigning data to the cluster with the nearest center.\n",
    "\n",
    "Here is a more detailed explanation of K-Means Clustering:\n",
    "\n",
    "- **Initialization**: The K-Means algorithm starts by initializing a certain number of clusters (K) desired by the user. The number K must be determined beforehand.\n",
    "\n",
    "- **Initial Cluster Centers**: Each cluster is represented by initial centers (centroids) that are randomly chosen or based on some initialization methods like K-Means++.\n",
    "\n",
    "- **Data Assignment**: The K-Means algorithm assigns each data point to the cluster with the closest center. The cluster centers are updated in each iteration.\n",
    "\n",
    "- **Calculation of New Centers**: After the initial assignment, new cluster centers are calculated by taking the average of all data points within that cluster. These new centers become the updated centers for their respective clusters.\n",
    "\n",
    "- **Iteration**: The data assignment and calculation of new centers are repeated several times (iterations) or until specific stopping criteria are met. Typically, the algorithm stops if there is no significant change in data assignments or after a certain number of iterations."
   ]
  },
  {
   "cell_type": "markdown",
   "metadata": {},
   "source": [
    "### **Tuning and Evaluation**"
   ]
  },
  {
   "cell_type": "markdown",
   "metadata": {},
   "source": [
    "**Optimal Number of Clusters for KMeans**\n",
    "\n",
    "To determine the most effective number of clusters for the KMeans clustering algorithm, we utilize the Elbow Method. This method involves plotting the variance explained as a function of the number of clusters and identifying the point where the increase in the number of clusters does not result in significantly better modeling of the data. This point is known as the \"elbow\".\n",
    "\n",
    "We compute KMeans clustering with varying numbers of clusters (from 2 to 8 in our case) and visualizes the elbow point. This visualization uses the 'distortion' score, which is the sum of squared distances from each point to its assigned center. When the elbow is located, it suggests the optimal number of clusters for KMeans, balancing between cluster tightness and the number of clusters.\n",
    "\n",
    "In addition to the Elbow Method, we can also use the Silhouette Score to assess the quality of the clusters formed by our KMeans algorithm. The Silhouette Score is a measure of how similar an object is to its own cluster (cohesion) compared to other clusters (separation). The score ranges from -1 to +1, where a high value indicates that the object is well matched to its own cluster and poorly matched to neighboring clusters."
   ]
  },
  {
   "cell_type": "code",
   "execution_count": 15,
   "metadata": {},
   "outputs": [],
   "source": [
    "kmeans = KMeans(random_state=42)"
   ]
  },
  {
   "cell_type": "code",
   "execution_count": 16,
   "metadata": {},
   "outputs": [
    {
     "data": {
      "text/html": [
       "<div>\n",
       "<style scoped>\n",
       "    .dataframe tbody tr th:only-of-type {\n",
       "        vertical-align: middle;\n",
       "    }\n",
       "\n",
       "    .dataframe tbody tr th {\n",
       "        vertical-align: top;\n",
       "    }\n",
       "\n",
       "    .dataframe thead th {\n",
       "        text-align: right;\n",
       "    }\n",
       "</style>\n",
       "<table border=\"1\" class=\"dataframe\">\n",
       "  <thead>\n",
       "    <tr style=\"text-align: right;\">\n",
       "      <th></th>\n",
       "      <th>k-Value</th>\n",
       "      <th>Distortion Score</th>\n",
       "      <th>Times (second)</th>\n",
       "    </tr>\n",
       "  </thead>\n",
       "  <tbody>\n",
       "    <tr>\n",
       "      <th>0</th>\n",
       "      <td>2</td>\n",
       "      <td>122.614389</td>\n",
       "      <td>0.106282</td>\n",
       "    </tr>\n",
       "    <tr>\n",
       "      <th>1</th>\n",
       "      <td>3</td>\n",
       "      <td>51.884934</td>\n",
       "      <td>0.057799</td>\n",
       "    </tr>\n",
       "    <tr>\n",
       "      <th>2</th>\n",
       "      <td>4</td>\n",
       "      <td>34.848928</td>\n",
       "      <td>0.061910</td>\n",
       "    </tr>\n",
       "    <tr>\n",
       "      <th>3</th>\n",
       "      <td>5</td>\n",
       "      <td>27.716405</td>\n",
       "      <td>0.062675</td>\n",
       "    </tr>\n",
       "    <tr>\n",
       "      <th>4</th>\n",
       "      <td>6</td>\n",
       "      <td>22.513646</td>\n",
       "      <td>0.059955</td>\n",
       "    </tr>\n",
       "    <tr>\n",
       "      <th>5</th>\n",
       "      <td>7</td>\n",
       "      <td>18.192947</td>\n",
       "      <td>0.061552</td>\n",
       "    </tr>\n",
       "  </tbody>\n",
       "</table>\n",
       "</div>"
      ],
      "text/plain": [
       "   k-Value  Distortion Score  Times (second)\n",
       "0        2        122.614389        0.106282\n",
       "1        3         51.884934        0.057799\n",
       "2        4         34.848928        0.061910\n",
       "3        5         27.716405        0.062675\n",
       "4        6         22.513646        0.059955\n",
       "5        7         18.192947        0.061552"
      ]
     },
     "metadata": {},
     "output_type": "display_data"
    },
    {
     "data": {
      "image/png": "[encoded data removed]",
      "text/plain": [
       "<Figure size 800x550 with 2 Axes>"
      ]
     },
     "metadata": {},
     "output_type": "display_data"
    }
   ],
   "source": [
    "# Calling the elbow_visualizer using the distortion metric\n",
    "elbow_visualizer(kmeans, rfm_scaled, metric='distortion', show_value=True)"
   ]
  },
  {
   "cell_type": "markdown",
   "metadata": {},
   "source": [
    "- The distortion score (blue line) decreases as the number of clusters increases, which is expected because more clusters generally mean better fit to the data.\n",
    "\n",
    "- The “elbow point” is the value of k where the distortion score stops decreasing sharply and starts to level off. This point represents a good balance between model complexity and fit quality.\n",
    "\n",
    "- In this case, the elbow is at k = 3, with a distortion score of 51.885. This suggests that 3 clusters is the optimal number for this dataset."
   ]
  },
  {
   "cell_type": "code",
   "execution_count": 17,
   "metadata": {},
   "outputs": [
    {
     "data": {
      "text/html": [
       "<div>\n",
       "<style scoped>\n",
       "    .dataframe tbody tr th:only-of-type {\n",
       "        vertical-align: middle;\n",
       "    }\n",
       "\n",
       "    .dataframe tbody tr th {\n",
       "        vertical-align: top;\n",
       "    }\n",
       "\n",
       "    .dataframe thead th {\n",
       "        text-align: right;\n",
       "    }\n",
       "</style>\n",
       "<table border=\"1\" class=\"dataframe\">\n",
       "  <thead>\n",
       "    <tr style=\"text-align: right;\">\n",
       "      <th></th>\n",
       "      <th>k-Value</th>\n",
       "      <th>Silhouette Score</th>\n",
       "      <th>Times (second)</th>\n",
       "    </tr>\n",
       "  </thead>\n",
       "  <tbody>\n",
       "    <tr>\n",
       "      <th>0</th>\n",
       "      <td>2</td>\n",
       "      <td>0.662510</td>\n",
       "      <td>0.061003</td>\n",
       "    </tr>\n",
       "    <tr>\n",
       "      <th>1</th>\n",
       "      <td>3</td>\n",
       "      <td>0.718923</td>\n",
       "      <td>0.059140</td>\n",
       "    </tr>\n",
       "    <tr>\n",
       "      <th>2</th>\n",
       "      <td>4</td>\n",
       "      <td>0.633617</td>\n",
       "      <td>0.059195</td>\n",
       "    </tr>\n",
       "    <tr>\n",
       "      <th>3</th>\n",
       "      <td>5</td>\n",
       "      <td>0.624851</td>\n",
       "      <td>0.061688</td>\n",
       "    </tr>\n",
       "    <tr>\n",
       "      <th>4</th>\n",
       "      <td>6</td>\n",
       "      <td>0.629090</td>\n",
       "      <td>0.061444</td>\n",
       "    </tr>\n",
       "    <tr>\n",
       "      <th>5</th>\n",
       "      <td>7</td>\n",
       "      <td>0.475234</td>\n",
       "      <td>0.062127</td>\n",
       "    </tr>\n",
       "  </tbody>\n",
       "</table>\n",
       "</div>"
      ],
      "text/plain": [
       "   k-Value  Silhouette Score  Times (second)\n",
       "0        2          0.662510        0.061003\n",
       "1        3          0.718923        0.059140\n",
       "2        4          0.633617        0.059195\n",
       "3        5          0.624851        0.061688\n",
       "4        6          0.629090        0.061444\n",
       "5        7          0.475234        0.062127"
      ]
     },
     "metadata": {},
     "output_type": "display_data"
    },
    {
     "data": {
      "image/png": "[encoded data removed]",
      "text/plain": [
       "<Figure size 800x550 with 2 Axes>"
      ]
     },
     "metadata": {},
     "output_type": "display_data"
    }
   ],
   "source": [
    "# Calling the elbow_visualizer using the silhouette metric\n",
    "elbow_visualizer(kmeans, rfm_scaled, metric='silhouette', locate_point=False, show_value=True)"
   ]
  },
  {
   "cell_type": "markdown",
   "metadata": {},
   "source": [
    "- The silhouette score (blue line) measures how well data points fit within their assigned cluster, with values ranging from -1 to 1. A higher score indicates better-defined and more well-separated clusters.\n",
    "\n",
    "- The highest silhouette score is observed at k = 3, suggesting that using 3 clusters provides the best overall cluster separation and cohesion for this dataset.\n",
    "\n",
    "- After k = 3, the silhouette score gradually decreases, and drops sharply at k = 7, indicating weaker clustering performance with more clusters."
   ]
  },
  {
   "cell_type": "markdown",
   "metadata": {},
   "source": [
    "### **Visualize Cluster**"
   ]
  },
  {
   "cell_type": "code",
   "execution_count": 18,
   "metadata": {},
   "outputs": [
    {
     "data": {
      "text/plain": [
       "1    64\n",
       "0    13\n",
       "2     7\n",
       "Name: cluster, dtype: int64"
      ]
     },
     "execution_count": 18,
     "metadata": {},
     "output_type": "execute_result"
    }
   ],
   "source": [
    "best_clusters = 3\n",
    "\n",
    "model = KMeans(n_clusters=best_clusters, random_state=42)\n",
    "\n",
    "kmeans_cluster = rfm_data[['vehicle_id', 'recency', 'frequency', 'monetary']]\n",
    "\n",
    "start_time = time.time()\n",
    "kmeans_cluster['cluster'] = model.fit_predict(rfm_scaled)\n",
    "end_time = time.time()\n",
    "kmeans_time= end_time - start_time\n",
    "\n",
    "kmeans_cluster['cluster'].value_counts()"
   ]
  },
  {
   "cell_type": "code",
   "execution_count": 19,
   "metadata": {},
   "outputs": [
    {
     "data": {
      "image/png": "[encoded data removed]",
      "text/plain": [
       "<Figure size 1800x500 with 3 Axes>"
      ]
     },
     "metadata": {},
     "output_type": "display_data"
    }
   ],
   "source": [
    "plot_cluster(data=kmeans_cluster, cluster='cluster', suptitle='K-Means Clustering Result')"
   ]
  },
  {
   "cell_type": "code",
   "execution_count": 20,
   "metadata": {},
   "outputs": [
    {
     "data": {
      "application/vnd.plotly.v1+json": {
       "config": {
        "plotlyServerURL": "https://plot.ly"
       },
       "data": [
        {
         "hovertemplate": "recency=%{x}<br>frequency=%{y}<br>monetary=%{z}<br>cluster=%{marker.color}<extra></extra>",
         "legendgroup": "",
         "marker": {
          "color": {
           "bdata": "AgAAAAAAAAAAAAAAAgAAAAEAAAAAAAAAAQAAAAAAAAAAAAAAAQAAAAEAAAAAAAAAAQAAAAAAAAABAAAAAAAAAAIAAAABAAAAAAAAAAAAAAACAAAAAQAAAAAAAAABAAAAAgAAAAAAAAABAAAAAAAAAAEAAAACAAAAAQAAAAEAAAABAAAAAQAAAAEAAAABAAAAAQAAAAEAAAABAAAAAQAAAAEAAAABAAAAAQAAAAEAAAABAAAAAQAAAAEAAAABAAAAAQAAAAEAAAABAAAAAQAAAAEAAAABAAAAAgAAAAEAAAABAAAAAQAAAAEAAAABAAAAAQAAAAEAAAABAAAAAQAAAAEAAAABAAAAAQAAAAEAAAABAAAAAQAAAAEAAAABAAAAAQAAAAEAAAABAAAAAQAAAAEAAAABAAAAAQAAAAEAAAABAAAAAQAAAAEAAAABAAAA",
           "dtype": "i4"
          },
          "coloraxis": "coloraxis",
          "symbol": "circle"
         },
         "mode": "markers",
         "name": "",
         "scene": "scene",
         "showlegend": false,
         "type": "scatter3d",
         "x": {
          "bdata": "LgEBMwcBBwEDAQEBAQEBAT8CAQ4jFwEBSgEBAQIuAQEBAQEBAQEBBAEBBgEBAQEBAQEEAQELYgQEBwEBAQEBAQEFAQEBAQEBAQEBAQEBAQUBAQEB",
          "dtype": "i1"
         },
         "y": {
          "bdata": "KAAtBOEGVwFSAhsJogDHBB8I7wKDA3oFTgJKBLIClAuZAG4BNghqChABoQBfCFgCnAHLBmYBSQZBAQUCTwFWAXYBKgEfAIEB1QBUAf8AMgBKAU4BogCkAYIAKgGGAdIBTgEXAE4BCQENAgEAAgDCAIAAIwCzAagBdAEHAEsB/gAmAQEAzgA6AQMA3AC8AQICPAGvAUsBCQJVAXYA8QB1ANgAnQFkAlgB",
          "dtype": "i2"
         },
         "z": {
          "bdata": "AAAAAAAQhUAAAAAAAOXcQAAAAADA7eFAAAAAAADrtUAAAAAAQNnTQAAAAABAw+BAAAAAAAButkAAAAAAQNzeQAAAAAAAeuRAAAAAAICq10AAAAAAAPTGQAAAAABAS9pAAAAAAAChzUAAAAAAgIjWQAAAAACANdNAAAAAAOCl7UAAAAAAAJCwQAAAAAAAisFAAAAAAECa40AAAAAA4J7lQAAAAAAAtLVAAAAAAAAgrEAAAAAAgMzhQAAAAADActNAAAAAAAB0uEAAAAAAgMbjQAAAAAAAZbdAAAAAAAAM4EAAAAAAAJ7DQAAAAAAA8MhAZmZmZqYJtUCF61G4XpTAQOxRuB4F0K9AcT0K1yOXtEBxPQrXo8B+QHsUrkdhfLZAXI/C9YiBxkAUrkfhOhS5QBWuR+GaLMNAmpmZmZlXh0AK16NwPfezQOF6FK7HFb9AhetRuB4IsUCPwvUoXH28QAAAAAAAF51Aw/UoXA9xskC4HoXrUa+7QEjhehSuHbVAexSuRyFSt0AAAAAAAHx1QIXrUbievLlAj8L1KBx0uEApXI/CtS2+QKRwPQrXQ0NAuB6F61F4PkD2KFyPwvKpQNejcD2qC8lAZmZmZmbmc0BxPQrXAwPAQFyPwvWorLRA4XoUrgdJuEBSuB6FqwDiQNejcD2KKLxAzczMzKyPw0AAAAAAQKy0QBSuR+F61DlAH4XrUbiCrECkcD0Kd+fAQIXrUbgehTJAcT0K1+Pis0DsUbgeZaPAQArXo3D9scBAH4XrUXhqtkApXI/CNQXAQClcj8J1Yb1AH4XrUXggwkD2KFyPQn+1QHA9CtdjD7tASOF6FC5ls0CPwvUoXFyRQFyPwvXI78NAFK5H4RpnwEAK16NwPTi7QArXo3Bd3sNA",
          "dtype": "f8"
         }
        }
       ],
       "layout": {
        "coloraxis": {
         "colorbar": {
          "title": {
           "text": "cluster"
          }
         },
         "colorscale": [
          [
           0,
           "#0d0887"
          ],
          [
           0.1111111111111111,
           "#46039f"
          ],
          [
           0.2222222222222222,
           "#7201a8"
          ],
          [
           0.3333333333333333,
           "#9c179e"
          ],
          [
           0.4444444444444444,
           "#bd3786"
          ],
          [
           0.5555555555555556,
           "#d8576b"
          ],
          [
           0.6666666666666666,
           "#ed7953"
          ],
          [
           0.7777777777777778,
           "#fb9f3a"
          ],
          [
           0.8888888888888888,
           "#fdca26"
          ],
          [
           1,
           "#f0f921"
          ]
         ]
        },
        "height": 600,
        "legend": {
         "tracegroupgap": 0
        },
        "scene": {
         "domain": {
          "x": [
           0,
           1
          ],
          "y": [
           0,
           1
          ]
         },
         "xaxis": {
          "title": {
           "text": "recency"
          }
         },
         "yaxis": {
          "title": {
           "text": "frequency"
          }
         },
         "zaxis": {
          "title": {
           "text": "monetary"
          }
         }
        },
        "template": {
         "data": {
          "bar": [
           {
            "error_x": {
             "color": "#2a3f5f"
            },
            "error_y": {
             "color": "#2a3f5f"
            },
            "marker": {
             "line": {
              "color": "#E5ECF6",
              "width": 0.5
             },
             "pattern": {
              "fillmode": "overlay",
              "size": 10,
              "solidity": 0.2
             }
            },
            "type": "bar"
           }
          ],
          "barpolar": [
           {
            "marker": {
             "line": {
              "color": "#E5ECF6",
              "width": 0.5
             },
             "pattern": {
              "fillmode": "overlay",
              "size": 10,
              "solidity": 0.2
             }
            },
            "type": "barpolar"
           }
          ],
          "carpet": [
           {
            "aaxis": {
             "endlinecolor": "#2a3f5f",
             "gridcolor": "white",
             "linecolor": "white",
             "minorgridcolor": "white",
             "startlinecolor": "#2a3f5f"
            },
            "baxis": {
             "endlinecolor": "#2a3f5f",
             "gridcolor": "white",
             "linecolor": "white",
             "minorgridcolor": "white",
             "startlinecolor": "#2a3f5f"
            },
            "type": "carpet"
           }
          ],
          "choropleth": [
           {
            "colorbar": {
             "outlinewidth": 0,
             "ticks": ""
            },
            "type": "choropleth"
           }
          ],
          "contour": [
           {
            "colorbar": {
             "outlinewidth": 0,
             "ticks": ""
            },
            "colorscale": [
             [
              0,
              "#0d0887"
             ],
             [
              0.1111111111111111,
              "#46039f"
             ],
             [
              0.2222222222222222,
              "#7201a8"
             ],
             [
              0.3333333333333333,
              "#9c179e"
             ],
             [
              0.4444444444444444,
              "#bd3786"
             ],
             [
              0.5555555555555556,
              "#d8576b"
             ],
             [
              0.6666666666666666,
              "#ed7953"
             ],
             [
              0.7777777777777778,
              "#fb9f3a"
             ],
             [
              0.8888888888888888,
              "#fdca26"
             ],
             [
              1,
              "#f0f921"
             ]
            ],
            "type": "contour"
           }
          ],
          "contourcarpet": [
           {
            "colorbar": {
             "outlinewidth": 0,
             "ticks": ""
            },
            "type": "contourcarpet"
           }
          ],
          "heatmap": [
           {
            "colorbar": {
             "outlinewidth": 0,
             "ticks": ""
            },
            "colorscale": [
             [
              0,
              "#0d0887"
             ],
             [
              0.1111111111111111,
              "#46039f"
             ],
             [
              0.2222222222222222,
              "#7201a8"
             ],
             [
              0.3333333333333333,
              "#9c179e"
             ],
             [
              0.4444444444444444,
              "#bd3786"
             ],
             [
              0.5555555555555556,
              "#d8576b"
             ],
             [
              0.6666666666666666,
              "#ed7953"
             ],
             [
              0.7777777777777778,
              "#fb9f3a"
             ],
             [
              0.8888888888888888,
              "#fdca26"
             ],
             [
              1,
              "#f0f921"
             ]
            ],
            "type": "heatmap"
           }
          ],
          "histogram": [
           {
            "marker": {
             "pattern": {
              "fillmode": "overlay",
              "size": 10,
              "solidity": 0.2
             }
            },
            "type": "histogram"
           }
          ],
          "histogram2d": [
           {
            "colorbar": {
             "outlinewidth": 0,
             "ticks": ""
            },
            "colorscale": [
             [
              0,
              "#0d0887"
             ],
             [
              0.1111111111111111,
              "#46039f"
             ],
             [
              0.2222222222222222,
              "#7201a8"
             ],
             [
              0.3333333333333333,
              "#9c179e"
             ],
             [
              0.4444444444444444,
              "#bd3786"
             ],
             [
              0.5555555555555556,
              "#d8576b"
             ],
             [
              0.6666666666666666,
              "#ed7953"
             ],
             [
              0.7777777777777778,
              "#fb9f3a"
             ],
             [
              0.8888888888888888,
              "#fdca26"
             ],
             [
              1,
              "#f0f921"
             ]
            ],
            "type": "histogram2d"
           }
          ],
          "histogram2dcontour": [
           {
            "colorbar": {
             "outlinewidth": 0,
             "ticks": ""
            },
            "colorscale": [
             [
              0,
              "#0d0887"
             ],
             [
              0.1111111111111111,
              "#46039f"
             ],
             [
              0.2222222222222222,
              "#7201a8"
             ],
             [
              0.3333333333333333,
              "#9c179e"
             ],
             [
              0.4444444444444444,
              "#bd3786"
             ],
             [
              0.5555555555555556,
              "#d8576b"
             ],
             [
              0.6666666666666666,
              "#ed7953"
             ],
             [
              0.7777777777777778,
              "#fb9f3a"
             ],
             [
              0.8888888888888888,
              "#fdca26"
             ],
             [
              1,
              "#f0f921"
             ]
            ],
            "type": "histogram2dcontour"
           }
          ],
          "mesh3d": [
           {
            "colorbar": {
             "outlinewidth": 0,
             "ticks": ""
            },
            "type": "mesh3d"
           }
          ],
          "parcoords": [
           {
            "line": {
             "colorbar": {
              "outlinewidth": 0,
              "ticks": ""
             }
            },
            "type": "parcoords"
           }
          ],
          "pie": [
           {
            "automargin": true,
            "type": "pie"
           }
          ],
          "scatter": [
           {
            "fillpattern": {
             "fillmode": "overlay",
             "size": 10,
             "solidity": 0.2
            },
            "type": "scatter"
           }
          ],
          "scatter3d": [
           {
            "line": {
             "colorbar": {
              "outlinewidth": 0,
              "ticks": ""
             }
            },
            "marker": {
             "colorbar": {
              "outlinewidth": 0,
              "ticks": ""
             }
            },
            "type": "scatter3d"
           }
          ],
          "scattercarpet": [
           {
            "marker": {
             "colorbar": {
              "outlinewidth": 0,
              "ticks": ""
             }
            },
            "type": "scattercarpet"
           }
          ],
          "scattergeo": [
           {
            "marker": {
             "colorbar": {
              "outlinewidth": 0,
              "ticks": ""
             }
            },
            "type": "scattergeo"
           }
          ],
          "scattergl": [
           {
            "marker": {
             "colorbar": {
              "outlinewidth": 0,
              "ticks": ""
             }
            },
            "type": "scattergl"
           }
          ],
          "scattermap": [
           {
            "marker": {
             "colorbar": {
              "outlinewidth": 0,
              "ticks": ""
             }
            },
            "type": "scattermap"
           }
          ],
          "scattermapbox": [
           {
            "marker": {
             "colorbar": {
              "outlinewidth": 0,
              "ticks": ""
             }
            },
            "type": "scattermapbox"
           }
          ],
          "scatterpolar": [
           {
            "marker": {
             "colorbar": {
              "outlinewidth": 0,
              "ticks": ""
             }
            },
            "type": "scatterpolar"
           }
          ],
          "scatterpolargl": [
           {
            "marker": {
             "colorbar": {
              "outlinewidth": 0,
              "ticks": ""
             }
            },
            "type": "scatterpolargl"
           }
          ],
          "scatterternary": [
           {
            "marker": {
             "colorbar": {
              "outlinewidth": 0,
              "ticks": ""
             }
            },
            "type": "scatterternary"
           }
          ],
          "surface": [
           {
            "colorbar": {
             "outlinewidth": 0,
             "ticks": ""
            },
            "colorscale": [
             [
              0,
              "#0d0887"
             ],
             [
              0.1111111111111111,
              "#46039f"
             ],
             [
              0.2222222222222222,
              "#7201a8"
             ],
             [
              0.3333333333333333,
              "#9c179e"
             ],
             [
              0.4444444444444444,
              "#bd3786"
             ],
             [
              0.5555555555555556,
              "#d8576b"
             ],
             [
              0.6666666666666666,
              "#ed7953"
             ],
             [
              0.7777777777777778,
              "#fb9f3a"
             ],
             [
              0.8888888888888888,
              "#fdca26"
             ],
             [
              1,
              "#f0f921"
             ]
            ],
            "type": "surface"
           }
          ],
          "table": [
           {
            "cells": {
             "fill": {
              "color": "#EBF0F8"
             },
             "line": {
              "color": "white"
             }
            },
            "header": {
             "fill": {
              "color": "#C8D4E3"
             },
             "line": {
              "color": "white"
             }
            },
            "type": "table"
           }
          ]
         },
         "layout": {
          "annotationdefaults": {
           "arrowcolor": "#2a3f5f",
           "arrowhead": 0,
           "arrowwidth": 1
          },
          "autotypenumbers": "strict",
          "coloraxis": {
           "colorbar": {
            "outlinewidth": 0,
            "ticks": ""
           }
          },
          "colorscale": {
           "diverging": [
            [
             0,
             "#8e0152"
            ],
            [
             0.1,
             "#c51b7d"
            ],
            [
             0.2,
             "#de77ae"
            ],
            [
             0.3,
             "#f1b6da"
            ],
            [
             0.4,
             "#fde0ef"
            ],
            [
             0.5,
             "#f7f7f7"
            ],
            [
             0.6,
             "#e6f5d0"
            ],
            [
             0.7,
             "#b8e186"
            ],
            [
             0.8,
             "#7fbc41"
            ],
            [
             0.9,
             "#4d9221"
            ],
            [
             1,
             "#276419"
            ]
           ],
           "sequential": [
            [
             0,
             "#0d0887"
            ],
            [
             0.1111111111111111,
             "#46039f"
            ],
            [
             0.2222222222222222,
             "#7201a8"
            ],
            [
             0.3333333333333333,
             "#9c179e"
            ],
            [
             0.4444444444444444,
             "#bd3786"
            ],
            [
             0.5555555555555556,
             "#d8576b"
            ],
            [
             0.6666666666666666,
             "#ed7953"
            ],
            [
             0.7777777777777778,
             "#fb9f3a"
            ],
            [
             0.8888888888888888,
             "#fdca26"
            ],
            [
             1,
             "#f0f921"
            ]
           ],
           "sequentialminus": [
            [
             0,
             "#0d0887"
            ],
            [
             0.1111111111111111,
             "#46039f"
            ],
            [
             0.2222222222222222,
             "#7201a8"
            ],
            [
             0.3333333333333333,
             "#9c179e"
            ],
            [
             0.4444444444444444,
             "#bd3786"
            ],
            [
             0.5555555555555556,
             "#d8576b"
            ],
            [
             0.6666666666666666,
             "#ed7953"
            ],
            [
             0.7777777777777778,
             "#fb9f3a"
            ],
            [
             0.8888888888888888,
             "#fdca26"
            ],
            [
             1,
             "#f0f921"
            ]
           ]
          },
          "colorway": [
           "#636efa",
           "#EF553B",
           "#00cc96",
           "#ab63fa",
           "#FFA15A",
           "#19d3f3",
           "#FF6692",
           "#B6E880",
           "#FF97FF",
           "#FECB52"
          ],
          "font": {
           "color": "#2a3f5f"
          },
          "geo": {
           "bgcolor": "white",
           "lakecolor": "white",
           "landcolor": "#E5ECF6",
           "showlakes": true,
           "showland": true,
           "subunitcolor": "white"
          },
          "hoverlabel": {
           "align": "left"
          },
          "hovermode": "closest",
          "mapbox": {
           "style": "light"
          },
          "paper_bgcolor": "white",
          "plot_bgcolor": "#E5ECF6",
          "polar": {
           "angularaxis": {
            "gridcolor": "white",
            "linecolor": "white",
            "ticks": ""
           },
           "bgcolor": "#E5ECF6",
           "radialaxis": {
            "gridcolor": "white",
            "linecolor": "white",
            "ticks": ""
           }
          },
          "scene": {
           "xaxis": {
            "backgroundcolor": "#E5ECF6",
            "gridcolor": "white",
            "gridwidth": 2,
            "linecolor": "white",
            "showbackground": true,
            "ticks": "",
            "zerolinecolor": "white"
           },
           "yaxis": {
            "backgroundcolor": "#E5ECF6",
            "gridcolor": "white",
            "gridwidth": 2,
            "linecolor": "white",
            "showbackground": true,
            "ticks": "",
            "zerolinecolor": "white"
           },
           "zaxis": {
            "backgroundcolor": "#E5ECF6",
            "gridcolor": "white",
            "gridwidth": 2,
            "linecolor": "white",
            "showbackground": true,
            "ticks": "",
            "zerolinecolor": "white"
           }
          },
          "shapedefaults": {
           "line": {
            "color": "#2a3f5f"
           }
          },
          "ternary": {
           "aaxis": {
            "gridcolor": "white",
            "linecolor": "white",
            "ticks": ""
           },
           "baxis": {
            "gridcolor": "white",
            "linecolor": "white",
            "ticks": ""
           },
           "bgcolor": "#E5ECF6",
           "caxis": {
            "gridcolor": "white",
            "linecolor": "white",
            "ticks": ""
           }
          },
          "title": {
           "x": 0.05
          },
          "xaxis": {
           "automargin": true,
           "gridcolor": "white",
           "linecolor": "white",
           "ticks": "",
           "title": {
            "standoff": 15
           },
           "zerolinecolor": "white",
           "zerolinewidth": 2
          },
          "yaxis": {
           "automargin": true,
           "gridcolor": "white",
           "linecolor": "white",
           "ticks": "",
           "title": {
            "standoff": 15
           },
           "zerolinecolor": "white",
           "zerolinewidth": 2
          }
         }
        },
        "title": {
         "text": "K-Means Clustering Result 3D"
        },
        "width": 800
       }
      }
     },
     "metadata": {},
     "output_type": "display_data"
    }
   ],
   "source": [
    "plot_cluster(data=kmeans_cluster, cluster='cluster', plot_3d=True, suptitle='K-Means Clustering Result 3D')"
   ]
  },
  {
   "cell_type": "markdown",
   "metadata": {},
   "source": [
    "The segmentation into three clusters using the K-Means Clustering method appears to be effective, with clear differentiation between clusters, such as:\n",
    "\n",
    "- **`Cluster 0 (Dark Blue) - Power Riders`**:\n",
    "Vehicles with low recency (used recently), high frequency, and high usage duration. Riders are very active and consistent. Potentially loyal or part of the main user in business.\n",
    "\n",
    "- **`Cluster 1 (Pink/Red) - Active Riders`**:\n",
    "Rider who use vehicles regularly. May be responsive to promotion or reminder.\n",
    "→ Represent average or moderately active users.\n",
    "\n",
    "- **`Cluster 2 (Yellow)  - Inactive Riders`**:\n",
    "Vehicles with high recency (not used recently), low frequency, and low usage duration. Passive riders or almost inactive. Can be a target of reactivation or evaluation of Churn."
   ]
  },
  {
   "cell_type": "code",
   "execution_count": 21,
   "metadata": {},
   "outputs": [
    {
     "name": "stdout",
     "output_type": "stream",
     "text": [
      "K-Means Clustering Times: 0.066 Seconds\n",
      "K-Means Clustering Silhouette score: 0.7189228588296148\n"
     ]
    }
   ],
   "source": [
    "# Calculate the Silhouette score for K-Means clustering\n",
    "kmeans_silhouette_score = silhouette_score(rfm_scaled, kmeans_cluster['cluster'])\n",
    "\n",
    "# Print the Silhouette score\n",
    "print(f\"K-Means Clustering Times: {round(kmeans_time, 3)} Seconds\")\n",
    "print(f\"K-Means Clustering Silhouette score: {kmeans_silhouette_score}\")"
   ]
  },
  {
   "cell_type": "markdown",
   "metadata": {},
   "source": [
    "## **Agglomerative Clustering**\n",
    "---"
   ]
  },
  {
   "cell_type": "markdown",
   "metadata": {},
   "source": [
    "Agglomerative Clustering is a hierarchical clustering algorithm used in data analysis and data mining to group similar data points into clusters or groups. This algorithm follows a \"bottom-up\" or \"agglomerative\" approach, where it starts with each data point as its own cluster and then iteratively merges clusters together based on their similarity until a single main cluster is formed.\n",
    "\n",
    "Here are the key steps in Agglomerative Clustering:\n",
    "\n",
    "- **Initialization**: Each data point is initially treated as a single cluster, so the number of clusters is equal to the number of data points.\n",
    "\n",
    "- **Similarity Measurement**: The algorithm calculates the similarity or dissimilarity between clusters. Various distance metrics, such as Euclidean distance, Manhattan distance, or other similarity measures, can be used to quantify the dissimilarity between clusters.\n",
    "\n",
    "- **Cluster Merging**: The two clusters that are most similar to each other, based on the chosen similarity measure, are merged into a single cluster. This process continues iteratively until only one primary cluster remains. The order of merging is typically recorded, allowing the creation of a hierarchical structure or dendrogram.\n",
    "\n",
    "- **Dendrogram**: The hierarchical structure of clusters is often represented as a dendrogram, which is a tree-like diagram that shows the sequence of cluster merges. This dendrogram can be useful for visualizing the hierarchy of clusters and for determining the optimal number of clusters at various levels of granularity.\n",
    "\n",
    "- **Stopping Criteria**: The clustering process stops when certain stopping criteria are met. Common stopping criteria include reaching a predetermined number of clusters or when the dissimilarity between clusters exceeds a certain threshol"
   ]
  },
  {
   "cell_type": "markdown",
   "metadata": {},
   "source": [
    "### **Tuning and Evaluation**\n",
    "\n",
    "Just like with K-Means, we use the Elbow Method and Silhouette Score to find the best number of clusters for Agglomerative Clustering. But with Agglomerative Clustering, we also use a dendrogram to help decide.\n",
    "\n",
    "A dendrogram is a chart that shows how the clusters are combined step by step. It helps us see where the biggest jumps or changes happen during the merging process. This visual tool gives extra clues about the most natural number of clusters, making it easier to choose the right value for k."
   ]
  },
  {
   "cell_type": "markdown",
   "metadata": {},
   "source": [
    "Sample allocation in the context of the Agglomerative Clustering algorithm is an approach used to address computational challenges when dealing with a large amount of data. Our data consists of 96,000 rows, which can consume a significant amount of computational resources and time to be processed by the Agglomerative Clustering algorithm."
   ]
  },
  {
   "cell_type": "code",
   "execution_count": 22,
   "metadata": {},
   "outputs": [
    {
     "data": {
      "text/html": [
       "<div>\n",
       "<style scoped>\n",
       "    .dataframe tbody tr th:only-of-type {\n",
       "        vertical-align: middle;\n",
       "    }\n",
       "\n",
       "    .dataframe tbody tr th {\n",
       "        vertical-align: top;\n",
       "    }\n",
       "\n",
       "    .dataframe thead th {\n",
       "        text-align: right;\n",
       "    }\n",
       "</style>\n",
       "<table border=\"1\" class=\"dataframe\">\n",
       "  <thead>\n",
       "    <tr style=\"text-align: right;\">\n",
       "      <th></th>\n",
       "      <th>k-Value</th>\n",
       "      <th>Distortion Score</th>\n",
       "      <th>Times (second)</th>\n",
       "    </tr>\n",
       "  </thead>\n",
       "  <tbody>\n",
       "    <tr>\n",
       "      <th>0</th>\n",
       "      <td>2</td>\n",
       "      <td>122.957670</td>\n",
       "      <td>0.001086</td>\n",
       "    </tr>\n",
       "    <tr>\n",
       "      <th>1</th>\n",
       "      <td>3</td>\n",
       "      <td>54.228596</td>\n",
       "      <td>0.001004</td>\n",
       "    </tr>\n",
       "    <tr>\n",
       "      <th>2</th>\n",
       "      <td>4</td>\n",
       "      <td>41.264262</td>\n",
       "      <td>0.001426</td>\n",
       "    </tr>\n",
       "    <tr>\n",
       "      <th>3</th>\n",
       "      <td>5</td>\n",
       "      <td>31.754244</td>\n",
       "      <td>0.001414</td>\n",
       "    </tr>\n",
       "    <tr>\n",
       "      <th>4</th>\n",
       "      <td>6</td>\n",
       "      <td>23.457386</td>\n",
       "      <td>0.001037</td>\n",
       "    </tr>\n",
       "    <tr>\n",
       "      <th>5</th>\n",
       "      <td>7</td>\n",
       "      <td>19.460048</td>\n",
       "      <td>0.001032</td>\n",
       "    </tr>\n",
       "  </tbody>\n",
       "</table>\n",
       "</div>"
      ],
      "text/plain": [
       "   k-Value  Distortion Score  Times (second)\n",
       "0        2        122.957670        0.001086\n",
       "1        3         54.228596        0.001004\n",
       "2        4         41.264262        0.001426\n",
       "3        5         31.754244        0.001414\n",
       "4        6         23.457386        0.001037\n",
       "5        7         19.460048        0.001032"
      ]
     },
     "metadata": {},
     "output_type": "display_data"
    },
    {
     "data": {
      "image/png": "[encoded data removed]",
      "text/plain": [
       "<Figure size 800x550 with 2 Axes>"
      ]
     },
     "metadata": {},
     "output_type": "display_data"
    }
   ],
   "source": [
    "agglomerative= AgglomerativeClustering(linkage='ward', compute_distances=True, compute_full_tree=True)\n",
    "\n",
    "elbow_visualizer(agglomerative, rfm_scaled, metric='distortion', show_value=True)"
   ]
  },
  {
   "cell_type": "markdown",
   "metadata": {},
   "source": [
    "- The distortion score (blue line) drops sharply from k=2 to k=3, and then the decline slows down.\n",
    "\n",
    "- The “elbow point” appears at k = 3, meaning this is the optimal number of clusters.\n",
    "\n",
    "- After k = 3, adding more clusters only gives small improvements, so 3 is a good balance between simplicity and performance."
   ]
  },
  {
   "cell_type": "code",
   "execution_count": 23,
   "metadata": {},
   "outputs": [
    {
     "data": {
      "text/html": [
       "<div>\n",
       "<style scoped>\n",
       "    .dataframe tbody tr th:only-of-type {\n",
       "        vertical-align: middle;\n",
       "    }\n",
       "\n",
       "    .dataframe tbody tr th {\n",
       "        vertical-align: top;\n",
       "    }\n",
       "\n",
       "    .dataframe thead th {\n",
       "        text-align: right;\n",
       "    }\n",
       "</style>\n",
       "<table border=\"1\" class=\"dataframe\">\n",
       "  <thead>\n",
       "    <tr style=\"text-align: right;\">\n",
       "      <th></th>\n",
       "      <th>k-Value</th>\n",
       "      <th>Silhouette Score</th>\n",
       "      <th>Times (second)</th>\n",
       "    </tr>\n",
       "  </thead>\n",
       "  <tbody>\n",
       "    <tr>\n",
       "      <th>0</th>\n",
       "      <td>2</td>\n",
       "      <td>0.667533</td>\n",
       "      <td>0.001247</td>\n",
       "    </tr>\n",
       "    <tr>\n",
       "      <th>1</th>\n",
       "      <td>3</td>\n",
       "      <td>0.703856</td>\n",
       "      <td>0.002495</td>\n",
       "    </tr>\n",
       "    <tr>\n",
       "      <th>2</th>\n",
       "      <td>4</td>\n",
       "      <td>0.591078</td>\n",
       "      <td>0.001142</td>\n",
       "    </tr>\n",
       "    <tr>\n",
       "      <th>3</th>\n",
       "      <td>5</td>\n",
       "      <td>0.588515</td>\n",
       "      <td>0.001096</td>\n",
       "    </tr>\n",
       "    <tr>\n",
       "      <th>4</th>\n",
       "      <td>6</td>\n",
       "      <td>0.586285</td>\n",
       "      <td>0.001001</td>\n",
       "    </tr>\n",
       "    <tr>\n",
       "      <th>5</th>\n",
       "      <td>7</td>\n",
       "      <td>0.586637</td>\n",
       "      <td>0.001158</td>\n",
       "    </tr>\n",
       "  </tbody>\n",
       "</table>\n",
       "</div>"
      ],
      "text/plain": [
       "   k-Value  Silhouette Score  Times (second)\n",
       "0        2          0.667533        0.001247\n",
       "1        3          0.703856        0.002495\n",
       "2        4          0.591078        0.001142\n",
       "3        5          0.588515        0.001096\n",
       "4        6          0.586285        0.001001\n",
       "5        7          0.586637        0.001158"
      ]
     },
     "metadata": {},
     "output_type": "display_data"
    },
    {
     "data": {
      "image/png": "[encoded data removed]",
      "text/plain": [
       "<Figure size 800x550 with 2 Axes>"
      ]
     },
     "metadata": {},
     "output_type": "display_data"
    }
   ],
   "source": [
    "# Calling the elbow_visualizer using the silhouette metric\n",
    "elbow_visualizer(agglomerative, rfm_scaled, metric='silhouette', locate_point=False, show_value=True)"
   ]
  },
  {
   "cell_type": "markdown",
   "metadata": {},
   "source": [
    "- The highest silhouette score is at k = 3, with a value of around 0.71, which indicates well-separated and clearly defined clusters.\n",
    "\n",
    "- After k = 3, the silhouette score drops significantly, especially at k = 4 and 5, meaning the quality of clustering decreases with more clusters.\n",
    "\n",
    "- The best number of clusters is 3, because it gives the clearest and strongest grouping. More clusters make the grouping worse."
   ]
  },
  {
   "cell_type": "code",
   "execution_count": 24,
   "metadata": {},
   "outputs": [
    {
     "data": {
      "image/png": "[encoded data removed]",
      "text/plain": [
       "<Figure size 1500x800 with 1 Axes>"
      ]
     },
     "metadata": {},
     "output_type": "display_data"
    }
   ],
   "source": [
    "# Calculating linkage matrix\n",
    "linkage_matrix = linkage(rfm_scaled, method='ward')\n",
    "\n",
    "# Plotting dendrogram\n",
    "plt.figure(figsize=(15, 8))\n",
    "dendrogram(linkage_matrix, truncate_mode='level', p=4)\n",
    "plt.axhline(y=16.05, color='r', linestyle='--')\n",
    "plt.axhline(y=11.73, color='r', linestyle='--')\n",
    "plt.axhline(y=5.1, color='r', linestyle='--')\n",
    "plt.axhline(y=4.35, color='r', linestyle='--')\n",
    "plt.axhline(y=4.07, color='r', linestyle='--')\n",
    "plt.title('Dendrogram', fontsize=16)\n",
    "plt.xlabel('Sample Index')\n",
    "plt.ylabel('Distance')\n",
    "plt.grid()\n",
    "plt.show()"
   ]
  },
  {
   "cell_type": "markdown",
   "metadata": {},
   "source": [
    "- **2 Clusters**: The distance between the two main clusters is approximately 4.32 (16.05 - 11.73). This indicates a strong separation between two distinct customer groups, likely reflecting major differences in their RFM profiles.\n",
    "\n",
    "- **3 Clusters**: The distance between the second and third clusters is about 6.63 (11.73 - 5.10). This relatively large gap suggests that the third cluster adds valuable segmentation, highlighting another distinct customer group with unique behaviors.\n",
    "\n",
    "- **4 Clusters**: The separation distance between the third and fourth clusters is around 0.75 (5.10 - 4.35). This small gap shows that adding a fourth cluster results in a minor increase in segmentation and may not contribute significant new insights.\n",
    "\n",
    "- **5 Clusters**: The distance for the fifth cluster is only about 0.28 (4.35 - 4.07), indicating a very slight difference. This suggests that introducing a fifth cluster does not provide meaningful additional separation.\n",
    "\n",
    "Based on the dendrogram distances, 3 clusters is the most suitable choice. It offers a balance between meaningful segmentation and simplicity."
   ]
  },
  {
   "cell_type": "markdown",
   "metadata": {},
   "source": [
    "### **Visualize cluster**"
   ]
  },
  {
   "cell_type": "code",
   "execution_count": 25,
   "metadata": {},
   "outputs": [
    {
     "data": {
      "text/plain": [
       "0    64\n",
       "1    12\n",
       "2     8\n",
       "Name: cluster, dtype: int64"
      ]
     },
     "execution_count": 25,
     "metadata": {},
     "output_type": "execute_result"
    }
   ],
   "source": [
    "best_clusters=3\n",
    "\n",
    "# Initialize AgglomerativeClustering model with 4 Cluster\n",
    "agglomerative = AgglomerativeClustering(n_clusters=best_clusters, linkage='ward', compute_distances=True, compute_full_tree=True)\n",
    "\n",
    "# Create a copy of the 'sample_cleaned' DataFrame to avoid modifying the original data\n",
    "agglo_cluster = rfm_data.copy()\n",
    "\n",
    "# Fit the AgglomerativeClustering model to the scaled data and assign cluster labels to the 'cluster' column\n",
    "start_time = time.time()\n",
    "agglo_cluster['cluster'] = agglomerative.fit_predict(rfm_scaled)\n",
    "end_time = time.time()\n",
    "agglo_time= end_time - start_time\n",
    "\n",
    "# Count the number of data points in each cluster and display the counts\n",
    "agglo_cluster['cluster'].value_counts()"
   ]
  },
  {
   "cell_type": "code",
   "execution_count": 26,
   "metadata": {},
   "outputs": [
    {
     "data": {
      "image/png": "[encoded data removed]",
      "text/plain": [
       "<Figure size 1800x500 with 3 Axes>"
      ]
     },
     "metadata": {},
     "output_type": "display_data"
    }
   ],
   "source": [
    "# Plot Agglomerativeclustering results\n",
    "plot_cluster(data=agglo_cluster, cluster=agglo_cluster['cluster'], suptitle='Agglomerative Clustering Result')"
   ]
  },
  {
   "cell_type": "code",
   "execution_count": 27,
   "metadata": {},
   "outputs": [
    {
     "data": {
      "application/vnd.plotly.v1+json": {
       "config": {
        "plotlyServerURL": "https://plot.ly"
       },
       "data": [
        {
         "hovertemplate": "recency=%{x}<br>frequency=%{y}<br>monetary=%{z}<br>cluster=%{marker.color}<extra></extra>",
         "legendgroup": "",
         "marker": {
          "color": {
           "bdata": "AgEBAgABAAEBAAABAAAAAQIAAQECAgEAAgEAAQACAAAAAAAAAAAAAAAAAAAAAAAAAAAAAAAAAgAAAAAAAAAAAAAAAAAAAAAAAAAAAAAAAAAAAAAA",
           "dtype": "i1"
          },
          "coloraxis": "coloraxis",
          "symbol": "circle"
         },
         "mode": "markers",
         "name": "",
         "scene": "scene",
         "showlegend": false,
         "type": "scatter3d",
         "x": {
          "bdata": "LgEBMwcBBwEDAQEBAQEBAT8CAQ4jFwEBSgEBAQIuAQEBAQEBAQEBBAEBBgEBAQEBAQEEAQELYgQEBwEBAQEBAQEFAQEBAQEBAQEBAQEBAQUBAQEB",
          "dtype": "i1"
         },
         "y": {
          "bdata": "KAAtBOEGVwFSAhsJogDHBB8I7wKDA3oFTgJKBLIClAuZAG4BNghqChABoQBfCFgCnAHLBmYBSQZBAQUCTwFWAXYBKgEfAIEB1QBUAf8AMgBKAU4BogCkAYIAKgGGAdIBTgEXAE4BCQENAgEAAgDCAIAAIwCzAagBdAEHAEsB/gAmAQEAzgA6AQMA3AC8AQICPAGvAUsBCQJVAXYA8QB1ANgAnQFkAlgB",
          "dtype": "i2"
         },
         "z": {
          "bdata": "AAAAAAAQhUAAAAAAAOXcQAAAAADA7eFAAAAAAADrtUAAAAAAQNnTQAAAAABAw+BAAAAAAAButkAAAAAAQNzeQAAAAAAAeuRAAAAAAICq10AAAAAAAPTGQAAAAABAS9pAAAAAAAChzUAAAAAAgIjWQAAAAACANdNAAAAAAOCl7UAAAAAAAJCwQAAAAAAAisFAAAAAAECa40AAAAAA4J7lQAAAAAAAtLVAAAAAAAAgrEAAAAAAgMzhQAAAAADActNAAAAAAAB0uEAAAAAAgMbjQAAAAAAAZbdAAAAAAAAM4EAAAAAAAJ7DQAAAAAAA8MhAZmZmZqYJtUCF61G4XpTAQOxRuB4F0K9AcT0K1yOXtEBxPQrXo8B+QHsUrkdhfLZAXI/C9YiBxkAUrkfhOhS5QBWuR+GaLMNAmpmZmZlXh0AK16NwPfezQOF6FK7HFb9AhetRuB4IsUCPwvUoXH28QAAAAAAAF51Aw/UoXA9xskC4HoXrUa+7QEjhehSuHbVAexSuRyFSt0AAAAAAAHx1QIXrUbievLlAj8L1KBx0uEApXI/CtS2+QKRwPQrXQ0NAuB6F61F4PkD2KFyPwvKpQNejcD2qC8lAZmZmZmbmc0BxPQrXAwPAQFyPwvWorLRA4XoUrgdJuEBSuB6FqwDiQNejcD2KKLxAzczMzKyPw0AAAAAAQKy0QBSuR+F61DlAH4XrUbiCrECkcD0Kd+fAQIXrUbgehTJAcT0K1+Pis0DsUbgeZaPAQArXo3D9scBAH4XrUXhqtkApXI/CNQXAQClcj8J1Yb1AH4XrUXggwkD2KFyPQn+1QHA9CtdjD7tASOF6FC5ls0CPwvUoXFyRQFyPwvXI78NAFK5H4RpnwEAK16NwPTi7QArXo3Bd3sNA",
          "dtype": "f8"
         }
        }
       ],
       "layout": {
        "coloraxis": {
         "colorbar": {
          "title": {
           "text": "cluster"
          }
         },
         "colorscale": [
          [
           0,
           "#0d0887"
          ],
          [
           0.1111111111111111,
           "#46039f"
          ],
          [
           0.2222222222222222,
           "#7201a8"
          ],
          [
           0.3333333333333333,
           "#9c179e"
          ],
          [
           0.4444444444444444,
           "#bd3786"
          ],
          [
           0.5555555555555556,
           "#d8576b"
          ],
          [
           0.6666666666666666,
           "#ed7953"
          ],
          [
           0.7777777777777778,
           "#fb9f3a"
          ],
          [
           0.8888888888888888,
           "#fdca26"
          ],
          [
           1,
           "#f0f921"
          ]
         ]
        },
        "height": 600,
        "legend": {
         "tracegroupgap": 0
        },
        "scene": {
         "domain": {
          "x": [
           0,
           1
          ],
          "y": [
           0,
           1
          ]
         },
         "xaxis": {
          "title": {
           "text": "recency"
          }
         },
         "yaxis": {
          "title": {
           "text": "frequency"
          }
         },
         "zaxis": {
          "title": {
           "text": "monetary"
          }
         }
        },
        "template": {
         "data": {
          "bar": [
           {
            "error_x": {
             "color": "#2a3f5f"
            },
            "error_y": {
             "color": "#2a3f5f"
            },
            "marker": {
             "line": {
              "color": "#E5ECF6",
              "width": 0.5
             },
             "pattern": {
              "fillmode": "overlay",
              "size": 10,
              "solidity": 0.2
             }
            },
            "type": "bar"
           }
          ],
          "barpolar": [
           {
            "marker": {
             "line": {
              "color": "#E5ECF6",
              "width": 0.5
             },
             "pattern": {
              "fillmode": "overlay",
              "size": 10,
              "solidity": 0.2
             }
            },
            "type": "barpolar"
           }
          ],
          "carpet": [
           {
            "aaxis": {
             "endlinecolor": "#2a3f5f",
             "gridcolor": "white",
             "linecolor": "white",
             "minorgridcolor": "white",
             "startlinecolor": "#2a3f5f"
            },
            "baxis": {
             "endlinecolor": "#2a3f5f",
             "gridcolor": "white",
             "linecolor": "white",
             "minorgridcolor": "white",
             "startlinecolor": "#2a3f5f"
            },
            "type": "carpet"
           }
          ],
          "choropleth": [
           {
            "colorbar": {
             "outlinewidth": 0,
             "ticks": ""
            },
            "type": "choropleth"
           }
          ],
          "contour": [
           {
            "colorbar": {
             "outlinewidth": 0,
             "ticks": ""
            },
            "colorscale": [
             [
              0,
              "#0d0887"
             ],
             [
              0.1111111111111111,
              "#46039f"
             ],
             [
              0.2222222222222222,
              "#7201a8"
             ],
             [
              0.3333333333333333,
              "#9c179e"
             ],
             [
              0.4444444444444444,
              "#bd3786"
             ],
             [
              0.5555555555555556,
              "#d8576b"
             ],
             [
              0.6666666666666666,
              "#ed7953"
             ],
             [
              0.7777777777777778,
              "#fb9f3a"
             ],
             [
              0.8888888888888888,
              "#fdca26"
             ],
             [
              1,
              "#f0f921"
             ]
            ],
            "type": "contour"
           }
          ],
          "contourcarpet": [
           {
            "colorbar": {
             "outlinewidth": 0,
             "ticks": ""
            },
            "type": "contourcarpet"
           }
          ],
          "heatmap": [
           {
            "colorbar": {
             "outlinewidth": 0,
             "ticks": ""
            },
            "colorscale": [
             [
              0,
              "#0d0887"
             ],
             [
              0.1111111111111111,
              "#46039f"
             ],
             [
              0.2222222222222222,
              "#7201a8"
             ],
             [
              0.3333333333333333,
              "#9c179e"
             ],
             [
              0.4444444444444444,
              "#bd3786"
             ],
             [
              0.5555555555555556,
              "#d8576b"
             ],
             [
              0.6666666666666666,
              "#ed7953"
             ],
             [
              0.7777777777777778,
              "#fb9f3a"
             ],
             [
              0.8888888888888888,
              "#fdca26"
             ],
             [
              1,
              "#f0f921"
             ]
            ],
            "type": "heatmap"
           }
          ],
          "histogram": [
           {
            "marker": {
             "pattern": {
              "fillmode": "overlay",
              "size": 10,
              "solidity": 0.2
             }
            },
            "type": "histogram"
           }
          ],
          "histogram2d": [
           {
            "colorbar": {
             "outlinewidth": 0,
             "ticks": ""
            },
            "colorscale": [
             [
              0,
              "#0d0887"
             ],
             [
              0.1111111111111111,
              "#46039f"
             ],
             [
              0.2222222222222222,
              "#7201a8"
             ],
             [
              0.3333333333333333,
              "#9c179e"
             ],
             [
              0.4444444444444444,
              "#bd3786"
             ],
             [
              0.5555555555555556,
              "#d8576b"
             ],
             [
              0.6666666666666666,
              "#ed7953"
             ],
             [
              0.7777777777777778,
              "#fb9f3a"
             ],
             [
              0.8888888888888888,
              "#fdca26"
             ],
             [
              1,
              "#f0f921"
             ]
            ],
            "type": "histogram2d"
           }
          ],
          "histogram2dcontour": [
           {
            "colorbar": {
             "outlinewidth": 0,
             "ticks": ""
            },
            "colorscale": [
             [
              0,
              "#0d0887"
             ],
             [
              0.1111111111111111,
              "#46039f"
             ],
             [
              0.2222222222222222,
              "#7201a8"
             ],
             [
              0.3333333333333333,
              "#9c179e"
             ],
             [
              0.4444444444444444,
              "#bd3786"
             ],
             [
              0.5555555555555556,
              "#d8576b"
             ],
             [
              0.6666666666666666,
              "#ed7953"
             ],
             [
              0.7777777777777778,
              "#fb9f3a"
             ],
             [
              0.8888888888888888,
              "#fdca26"
             ],
             [
              1,
              "#f0f921"
             ]
            ],
            "type": "histogram2dcontour"
           }
          ],
          "mesh3d": [
           {
            "colorbar": {
             "outlinewidth": 0,
             "ticks": ""
            },
            "type": "mesh3d"
           }
          ],
          "parcoords": [
           {
            "line": {
             "colorbar": {
              "outlinewidth": 0,
              "ticks": ""
             }
            },
            "type": "parcoords"
           }
          ],
          "pie": [
           {
            "automargin": true,
            "type": "pie"
           }
          ],
          "scatter": [
           {
            "fillpattern": {
             "fillmode": "overlay",
             "size": 10,
             "solidity": 0.2
            },
            "type": "scatter"
           }
          ],
          "scatter3d": [
           {
            "line": {
             "colorbar": {
              "outlinewidth": 0,
              "ticks": ""
             }
            },
            "marker": {
             "colorbar": {
              "outlinewidth": 0,
              "ticks": ""
             }
            },
            "type": "scatter3d"
           }
          ],
          "scattercarpet": [
           {
            "marker": {
             "colorbar": {
              "outlinewidth": 0,
              "ticks": ""
             }
            },
            "type": "scattercarpet"
           }
          ],
          "scattergeo": [
           {
            "marker": {
             "colorbar": {
              "outlinewidth": 0,
              "ticks": ""
             }
            },
            "type": "scattergeo"
           }
          ],
          "scattergl": [
           {
            "marker": {
             "colorbar": {
              "outlinewidth": 0,
              "ticks": ""
             }
            },
            "type": "scattergl"
           }
          ],
          "scattermap": [
           {
            "marker": {
             "colorbar": {
              "outlinewidth": 0,
              "ticks": ""
             }
            },
            "type": "scattermap"
           }
          ],
          "scattermapbox": [
           {
            "marker": {
             "colorbar": {
              "outlinewidth": 0,
              "ticks": ""
             }
            },
            "type": "scattermapbox"
           }
          ],
          "scatterpolar": [
           {
            "marker": {
             "colorbar": {
              "outlinewidth": 0,
              "ticks": ""
             }
            },
            "type": "scatterpolar"
           }
          ],
          "scatterpolargl": [
           {
            "marker": {
             "colorbar": {
              "outlinewidth": 0,
              "ticks": ""
             }
            },
            "type": "scatterpolargl"
           }
          ],
          "scatterternary": [
           {
            "marker": {
             "colorbar": {
              "outlinewidth": 0,
              "ticks": ""
             }
            },
            "type": "scatterternary"
           }
          ],
          "surface": [
           {
            "colorbar": {
             "outlinewidth": 0,
             "ticks": ""
            },
            "colorscale": [
             [
              0,
              "#0d0887"
             ],
             [
              0.1111111111111111,
              "#46039f"
             ],
             [
              0.2222222222222222,
              "#7201a8"
             ],
             [
              0.3333333333333333,
              "#9c179e"
             ],
             [
              0.4444444444444444,
              "#bd3786"
             ],
             [
              0.5555555555555556,
              "#d8576b"
             ],
             [
              0.6666666666666666,
              "#ed7953"
             ],
             [
              0.7777777777777778,
              "#fb9f3a"
             ],
             [
              0.8888888888888888,
              "#fdca26"
             ],
             [
              1,
              "#f0f921"
             ]
            ],
            "type": "surface"
           }
          ],
          "table": [
           {
            "cells": {
             "fill": {
              "color": "#EBF0F8"
             },
             "line": {
              "color": "white"
             }
            },
            "header": {
             "fill": {
              "color": "#C8D4E3"
             },
             "line": {
              "color": "white"
             }
            },
            "type": "table"
           }
          ]
         },
         "layout": {
          "annotationdefaults": {
           "arrowcolor": "#2a3f5f",
           "arrowhead": 0,
           "arrowwidth": 1
          },
          "autotypenumbers": "strict",
          "coloraxis": {
           "colorbar": {
            "outlinewidth": 0,
            "ticks": ""
           }
          },
          "colorscale": {
           "diverging": [
            [
             0,
             "#8e0152"
            ],
            [
             0.1,
             "#c51b7d"
            ],
            [
             0.2,
             "#de77ae"
            ],
            [
             0.3,
             "#f1b6da"
            ],
            [
             0.4,
             "#fde0ef"
            ],
            [
             0.5,
             "#f7f7f7"
            ],
            [
             0.6,
             "#e6f5d0"
            ],
            [
             0.7,
             "#b8e186"
            ],
            [
             0.8,
             "#7fbc41"
            ],
            [
             0.9,
             "#4d9221"
            ],
            [
             1,
             "#276419"
            ]
           ],
           "sequential": [
            [
             0,
             "#0d0887"
            ],
            [
             0.1111111111111111,
             "#46039f"
            ],
            [
             0.2222222222222222,
             "#7201a8"
            ],
            [
             0.3333333333333333,
             "#9c179e"
            ],
            [
             0.4444444444444444,
             "#bd3786"
            ],
            [
             0.5555555555555556,
             "#d8576b"
            ],
            [
             0.6666666666666666,
             "#ed7953"
            ],
            [
             0.7777777777777778,
             "#fb9f3a"
            ],
            [
             0.8888888888888888,
             "#fdca26"
            ],
            [
             1,
             "#f0f921"
            ]
           ],
           "sequentialminus": [
            [
             0,
             "#0d0887"
            ],
            [
             0.1111111111111111,
             "#46039f"
            ],
            [
             0.2222222222222222,
             "#7201a8"
            ],
            [
             0.3333333333333333,
             "#9c179e"
            ],
            [
             0.4444444444444444,
             "#bd3786"
            ],
            [
             0.5555555555555556,
             "#d8576b"
            ],
            [
             0.6666666666666666,
             "#ed7953"
            ],
            [
             0.7777777777777778,
             "#fb9f3a"
            ],
            [
             0.8888888888888888,
             "#fdca26"
            ],
            [
             1,
             "#f0f921"
            ]
           ]
          },
          "colorway": [
           "#636efa",
           "#EF553B",
           "#00cc96",
           "#ab63fa",
           "#FFA15A",
           "#19d3f3",
           "#FF6692",
           "#B6E880",
           "#FF97FF",
           "#FECB52"
          ],
          "font": {
           "color": "#2a3f5f"
          },
          "geo": {
           "bgcolor": "white",
           "lakecolor": "white",
           "landcolor": "#E5ECF6",
           "showlakes": true,
           "showland": true,
           "subunitcolor": "white"
          },
          "hoverlabel": {
           "align": "left"
          },
          "hovermode": "closest",
          "mapbox": {
           "style": "light"
          },
          "paper_bgcolor": "white",
          "plot_bgcolor": "#E5ECF6",
          "polar": {
           "angularaxis": {
            "gridcolor": "white",
            "linecolor": "white",
            "ticks": ""
           },
           "bgcolor": "#E5ECF6",
           "radialaxis": {
            "gridcolor": "white",
            "linecolor": "white",
            "ticks": ""
           }
          },
          "scene": {
           "xaxis": {
            "backgroundcolor": "#E5ECF6",
            "gridcolor": "white",
            "gridwidth": 2,
            "linecolor": "white",
            "showbackground": true,
            "ticks": "",
            "zerolinecolor": "white"
           },
           "yaxis": {
            "backgroundcolor": "#E5ECF6",
            "gridcolor": "white",
            "gridwidth": 2,
            "linecolor": "white",
            "showbackground": true,
            "ticks": "",
            "zerolinecolor": "white"
           },
           "zaxis": {
            "backgroundcolor": "#E5ECF6",
            "gridcolor": "white",
            "gridwidth": 2,
            "linecolor": "white",
            "showbackground": true,
            "ticks": "",
            "zerolinecolor": "white"
           }
          },
          "shapedefaults": {
           "line": {
            "color": "#2a3f5f"
           }
          },
          "ternary": {
           "aaxis": {
            "gridcolor": "white",
            "linecolor": "white",
            "ticks": ""
           },
           "baxis": {
            "gridcolor": "white",
            "linecolor": "white",
            "ticks": ""
           },
           "bgcolor": "#E5ECF6",
           "caxis": {
            "gridcolor": "white",
            "linecolor": "white",
            "ticks": ""
           }
          },
          "title": {
           "x": 0.05
          },
          "xaxis": {
           "automargin": true,
           "gridcolor": "white",
           "linecolor": "white",
           "ticks": "",
           "title": {
            "standoff": 15
           },
           "zerolinecolor": "white",
           "zerolinewidth": 2
          },
          "yaxis": {
           "automargin": true,
           "gridcolor": "white",
           "linecolor": "white",
           "ticks": "",
           "title": {
            "standoff": 15
           },
           "zerolinecolor": "white",
           "zerolinewidth": 2
          }
         }
        },
        "title": {
         "text": "Agglomerative Clustering Result 3D"
        },
        "width": 800
       }
      }
     },
     "metadata": {},
     "output_type": "display_data"
    }
   ],
   "source": [
    "# Plot 3D Agglomerativeclustering results\n",
    "plot_cluster(data=agglo_cluster, cluster=agglo_cluster['cluster'], plot_3d=True, suptitle='Agglomerative Clustering Result 3D')"
   ]
  },
  {
   "cell_type": "markdown",
   "metadata": {},
   "source": [
    "The segmentation into three clusters using the Agglomerative method appears to be effective, with clear differentiation between clusters, such as:\n",
    "\n",
    "- **`Cluster 1 (Pink) - Power Riders`**:\n",
    "This cluster consists of riders with low recency, high frequency, and high monetary value. These are your most active and engaged rider, likely to have subscribed passengers or loyal customers who rely heavily on  platform.\n",
    "\n",
    "- **`Cluster 0 (Pink/Red) - Active Riders`**:\n",
    "Riders in this group show moderate recency, moderate frequency, and moderate spending. These are irregular but consistent rider not highly engaged, but still active.\n",
    "\n",
    "- **`Cluster 2 (Yellow)  - Inactive Riders`**:\n",
    "Riders in this cluster have high recency, low frequency, and low monetary value. This group likely consists of inactive users, occasional riders, or those who may have discontinued using the service altogether. This segment may include one-time users, churned riders, or those exploring other transportation options. "
   ]
  },
  {
   "cell_type": "code",
   "execution_count": 28,
   "metadata": {},
   "outputs": [
    {
     "name": "stdout",
     "output_type": "stream",
     "text": [
      "Agglomerative Clustering Times: 0.001 Seconds\n",
      "Agglomerative Clustering Silhouette score: 0.7038555620635106\n"
     ]
    }
   ],
   "source": [
    "# Calculate the Silhouette score for Agglomerative clustering\n",
    "agglo_silhouette_score = silhouette_score(rfm_scaled, agglo_cluster['cluster'])\n",
    "\n",
    "# Print the Silhouette score\n",
    "print(f\"Agglomerative Clustering Times: {round(agglo_time, 3)} Seconds\")\n",
    "print(f\"Agglomerative Clustering Silhouette score: {agglo_silhouette_score}\")"
   ]
  },
  {
   "cell_type": "markdown",
   "metadata": {},
   "source": [
    "# **Summary**"
   ]
  },
  {
   "cell_type": "code",
   "execution_count": 29,
   "metadata": {},
   "outputs": [
    {
     "data": {
      "text/html": [
       "<div>\n",
       "<style scoped>\n",
       "    .dataframe tbody tr th:only-of-type {\n",
       "        vertical-align: middle;\n",
       "    }\n",
       "\n",
       "    .dataframe tbody tr th {\n",
       "        vertical-align: top;\n",
       "    }\n",
       "\n",
       "    .dataframe thead th {\n",
       "        text-align: right;\n",
       "    }\n",
       "</style>\n",
       "<table border=\"1\" class=\"dataframe\">\n",
       "  <thead>\n",
       "    <tr style=\"text-align: right;\">\n",
       "      <th></th>\n",
       "      <th>Model</th>\n",
       "      <th>Silhouette Score</th>\n",
       "      <th>Training Time(s)</th>\n",
       "    </tr>\n",
       "  </thead>\n",
       "  <tbody>\n",
       "    <tr>\n",
       "      <th>0</th>\n",
       "      <td>K-Means Clustering</td>\n",
       "      <td>0.719</td>\n",
       "      <td>0.066</td>\n",
       "    </tr>\n",
       "    <tr>\n",
       "      <th>1</th>\n",
       "      <td>Agglomerative Clustering</td>\n",
       "      <td>0.704</td>\n",
       "      <td>0.001</td>\n",
       "    </tr>\n",
       "  </tbody>\n",
       "</table>\n",
       "</div>"
      ],
      "text/plain": [
       "                      Model  Silhouette Score  Training Time(s)\n",
       "0        K-Means Clustering             0.719             0.066\n",
       "1  Agglomerative Clustering             0.704             0.001"
      ]
     },
     "execution_count": 29,
     "metadata": {},
     "output_type": "execute_result"
    }
   ],
   "source": [
    "pd.DataFrame({\n",
    "        'Model': ['K-Means Clustering', 'Agglomerative Clustering'],  \n",
    "        'Silhouette Score': [kmeans_silhouette_score.round(3), agglo_silhouette_score.round(3)],  \n",
    "        'Training Time(s)': [round(kmeans_time, 3), round(agglo_time, 3)]  \n",
    "    })"
   ]
  },
  {
   "cell_type": "markdown",
   "metadata": {},
   "source": [
    "Both K-Means and Agglomerative Clustering methods, along with evaluation metrics such as the Elbow Method, Silhouette Score, and Dendrogram Analysis, consistently identify three optimal rider segments. This agreement across methods indicates a stable and well-defined clustering structure in the data, allowing for confident interpretation and strategy development.\n",
    "\n",
    "- **`Power Riders Cluster`**:\n",
    "    \n",
    "    - Characteristics:\n",
    "\n",
    "        - Low recency: These riders have used the platform very recently, indicating high engagement.\n",
    "\n",
    "        - High frequency: They take trips frequently and consistently over time.\n",
    "\n",
    "        - High monetary: They tend to spend more time using the platform or take longer trips, signaling heavy usage.\n",
    "\n",
    "        - These riders likely have subscribed passengers or loyal customers who rely heavily on platform.\n",
    "\n",
    "    - **`Insight & Strategi`**:\n",
    "\n",
    "        - Introduce a tiered loyalty program offering benefits such as discounted services, priority access, or bonus points for consistent use.\n",
    "\n",
    "        - Provide scheduled maintenance packages or alerts to ensure their vehicles remain in good condition due to high usage.\n",
    "\n",
    "        - Send targeted educational content (e.g., on vehicle care or safety) to reduce downtime due to mechanical issues.\n",
    "\n",
    "        - Maintain high service quality and minimize disruptions to keep satisfaction levels high.\n",
    "\n",
    "- **`Active Riders Cluster`**:  \n",
    "    - Characteristics:\n",
    "\n",
    "        - Moderate recency: They have used the platform relatively recently, though not as recently as Power Riders.\n",
    "\n",
    "        - Moderate frequency: Their trip activity is steady but not intensive.\n",
    "        \n",
    "        - Moderate usage value: Their overall usage is balanced, indicating potential to increase or decrease based on platform experience and incentives.\n",
    "\n",
    "\n",
    "    - **`Insight & Strategi`**:\n",
    "\n",
    "        - Implement targeted promotions, such as time-limited offers bonus point, to encourage more frequent use.\n",
    "\n",
    "        - Targeted promotions, reminders, or content recommendations\n",
    "\n",
    "        - Monitor behavior to detect shifts, whether toward higher engagement or signs of disengagement and respond proactively.\n",
    "\n",
    "\n",
    "- **`Inactive Riders Cluster`**:\n",
    "    - Characteristics:\n",
    "\n",
    "        - High recency: These users haven't used the platform for a long time, indicating disengagement.\n",
    "\n",
    "        - Low frequency: Very few trips logged.\n",
    "\n",
    "        - Low trip value: Their overall platform use is minimal.\n",
    "\n",
    "\n",
    "    - **`Insight & Strategi`**:\n",
    "\n",
    "        - These users are at risk of churn, Investigate if their vehicle is inactive due to damage, disuse, or lack of interest.\n",
    "\n",
    "        - Send reactivation offers or surveys to understand their situation.\n",
    "\n",
    "        - Make loyalty point bonus and reminders to bring them back\n",
    "\n",
    "        - Offer a big discount for checking the vehicle if there really have a problem\n",
    "\n"
   ]
  }
 ],
 "metadata": {
  "kernelspec": {
   "display_name": "3.9.13",
   "language": "python",
   "name": "python3"
  },
  "language_info": {
   "codemirror_mode": {
    "name": "ipython",
    "version": 3
   },
   "file_extension": ".py",
   "mimetype": "text/x-python",
   "name": "python",
   "nbconvert_exporter": "python",
   "pygments_lexer": "ipython3",
   "version": "3.9.13"
  }
 },
 "nbformat": 4,
 "nbformat_minor": 2
}
